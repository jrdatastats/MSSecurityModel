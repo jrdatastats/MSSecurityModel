{
  "cells": [
    {
      "cell_type": "markdown",
      "metadata": {
        "id": "yrSxnR_bGLb0"
      },
      "source": [
        "# QTM 347 Final Project\n",
        "##### By Justin Ross & Nav Vittal"
      ]
    },
    {
      "cell_type": "markdown",
      "source": [
        "Abstract: This project is an attempt at [Microsoft’s Malware Prediction Kaggle Competition](https://www.kaggle.com/competitions/microsoft-malware-prediction/overview) from 2018. Using a specific train and test datasets, the goal of this project is to predict whether a machine learning model can predict whether a computer has malware given various information about the model. The test and train datasets provided contain information about real Microsoft machines and their malware status. We evaluate performance using area under ROC curve.\n"
      ],
      "metadata": {
        "id": "C7BDkd9hpI-d"
      }
    },
    {
      "cell_type": "markdown",
      "metadata": {
        "id": "pWCaUA8Dza0d"
      },
      "source": [
        "### 1) Import Statements"
      ]
    },
    {
      "cell_type": "code",
      "execution_count": null,
      "metadata": {
        "colab": {
          "base_uri": "https://localhost:8080/"
        },
        "id": "VYjqWPrNLCJy",
        "outputId": "d03b5a03-d207-4248-d130-37777531d5cd"
      },
      "outputs": [
        {
          "output_type": "stream",
          "name": "stdout",
          "text": [
            "Collecting pyspark\n",
            "  Downloading pyspark-3.5.0.tar.gz (316.9 MB)\n",
            "\u001b[2K     \u001b[90m━━━━━━━━━━━━━━━━━━━━━━━━━━━━━━━━━━━━━━━━\u001b[0m \u001b[32m316.9/316.9 MB\u001b[0m \u001b[31m3.4 MB/s\u001b[0m eta \u001b[36m0:00:00\u001b[0m\n",
            "\u001b[?25h  Preparing metadata (setup.py) ... \u001b[?25l\u001b[?25hdone\n",
            "Collecting scikit-optimize\n",
            "  Downloading scikit_optimize-0.9.0-py2.py3-none-any.whl (100 kB)\n",
            "\u001b[2K     \u001b[90m━━━━━━━━━━━━━━━━━━━━━━━━━━━━━━━━━━━━━━━━\u001b[0m \u001b[32m100.3/100.3 kB\u001b[0m \u001b[31m319.9 kB/s\u001b[0m eta \u001b[36m0:00:00\u001b[0m\n",
            "\u001b[?25hRequirement already satisfied: py4j==0.10.9.7 in /usr/local/lib/python3.10/dist-packages (from pyspark) (0.10.9.7)\n",
            "Requirement already satisfied: joblib>=0.11 in /usr/local/lib/python3.10/dist-packages (from scikit-optimize) (1.3.2)\n",
            "Collecting pyaml>=16.9 (from scikit-optimize)\n",
            "  Downloading pyaml-23.9.7-py3-none-any.whl (23 kB)\n",
            "Requirement already satisfied: numpy>=1.13.3 in /usr/local/lib/python3.10/dist-packages (from scikit-optimize) (1.23.5)\n",
            "Requirement already satisfied: scipy>=0.19.1 in /usr/local/lib/python3.10/dist-packages (from scikit-optimize) (1.11.4)\n",
            "Requirement already satisfied: scikit-learn>=0.20.0 in /usr/local/lib/python3.10/dist-packages (from scikit-optimize) (1.2.2)\n",
            "Requirement already satisfied: PyYAML in /usr/local/lib/python3.10/dist-packages (from pyaml>=16.9->scikit-optimize) (6.0.1)\n",
            "Requirement already satisfied: threadpoolctl>=2.0.0 in /usr/local/lib/python3.10/dist-packages (from scikit-learn>=0.20.0->scikit-optimize) (3.2.0)\n",
            "Building wheels for collected packages: pyspark\n",
            "  Building wheel for pyspark (setup.py) ... \u001b[?25l\u001b[?25hdone\n",
            "  Created wheel for pyspark: filename=pyspark-3.5.0-py2.py3-none-any.whl size=317425345 sha256=7bc1fc619f0d0f676eea678214fd39c158c0d82751333475448bfe0e70e7aea1\n",
            "  Stored in directory: /root/.cache/pip/wheels/41/4e/10/c2cf2467f71c678cfc8a6b9ac9241e5e44a01940da8fbb17fc\n",
            "Successfully built pyspark\n",
            "Installing collected packages: pyspark, pyaml, scikit-optimize\n",
            "Successfully installed pyaml-23.9.7 pyspark-3.5.0 scikit-optimize-0.9.0\n"
          ]
        }
      ],
      "source": [
        "%pip install pyspark scikit-optimize"
      ]
    },
    {
      "cell_type": "code",
      "source": [
        "!spark-server"
      ],
      "metadata": {
        "colab": {
          "base_uri": "https://localhost:8080/"
        },
        "id": "6kcJwL2yH_eM",
        "outputId": "4ad58b2c-004d-47da-9d62-088df7d8dc5a"
      },
      "execution_count": null,
      "outputs": [
        {
          "output_type": "stream",
          "name": "stdout",
          "text": [
            "/bin/bash: line 1: spark-server: command not found\n"
          ]
        }
      ]
    },
    {
      "cell_type": "code",
      "execution_count": null,
      "metadata": {
        "id": "f3FaiXIoyCnl"
      },
      "outputs": [],
      "source": [
        "from pyspark.sql.functions import col, rand, sum\n",
        "import gc\n",
        "from pyspark.sql import SparkSession\n",
        "import pandas as pd"
      ]
    },
    {
      "cell_type": "code",
      "execution_count": null,
      "metadata": {
        "id": "V4-wyFTZ5lCO",
        "colab": {
          "base_uri": "https://localhost:8080/"
        },
        "outputId": "10ed275c-641a-41fc-bbf8-c3f523efcf12"
      },
      "outputs": [
        {
          "output_type": "stream",
          "name": "stdout",
          "text": [
            "Mounted at /content/gdrive\n"
          ]
        }
      ],
      "source": [
        "# Connect to google drive\n",
        "from google.colab import drive\n",
        "drive.mount('/content/gdrive')"
      ]
    },
    {
      "cell_type": "code",
      "execution_count": null,
      "metadata": {
        "id": "E9eOmfcdK_Mr"
      },
      "outputs": [],
      "source": [
        "# Create a Spark session\n",
        "spark = SparkSession.builder.appName(\"Final\").getOrCreate()"
      ]
    },
    {
      "cell_type": "markdown",
      "metadata": {
        "id": "PjAKyfJkzmQR"
      },
      "source": [
        "### 2) Load Data"
      ]
    },
    {
      "cell_type": "markdown",
      "source": [
        "We have stored our training and test data on Google Drive. To import the CSV files, follow these steps:\n",
        "\n",
        "Download the 'test.csv' and 'train.csv' files from the following Kaggle competition data link: [Microsoft Malware Prediction Data](https://www.kaggle.com/competitions/microsoft-malware-prediction/data).\n",
        "\n",
        "Save the downloaded 'test.csv' and 'train.csv' files to your local machine.\n",
        "\n",
        "Update the file paths in your Python script to point to the local destinations of the 'test.csv' and 'train.csv' files on your machine. Look for the lines of code where the file paths are specified, and replace the existing paths with the paths to the files you downloaded.\n",
        "\n",
        "By following these steps, you'll be able to use the locally stored CSV files in this notebook."
      ],
      "metadata": {
        "id": "GN-T5cRChxJ3"
      }
    },
    {
      "cell_type": "code",
      "execution_count": null,
      "metadata": {
        "id": "SXcFRpysQMJb"
      },
      "outputs": [],
      "source": [
        "train_data_spark = spark.read.csv(\"/content/gdrive/MyDrive/Final/train.csv\", header=True, inferSchema=True)"
      ]
    },
    {
      "cell_type": "code",
      "execution_count": null,
      "metadata": {
        "id": "LRnTz68_OV2T",
        "colab": {
          "base_uri": "https://localhost:8080/"
        },
        "outputId": "a4db2537-1612-4f21-b315-925101fb5f84"
      },
      "outputs": [
        {
          "output_type": "execute_result",
          "data": {
            "text/plain": [
              "8921483"
            ]
          },
          "metadata": {},
          "execution_count": 90
        }
      ],
      "source": [
        "train_data_spark.count()"
      ]
    },
    {
      "cell_type": "markdown",
      "metadata": {
        "id": "Oae3OlTyzziW"
      },
      "source": [
        "### 3) Get Stratified Subset and Clean Data"
      ]
    },
    {
      "cell_type": "markdown",
      "source": [
        "#### 3.1) Stratify data and downsample accordingly"
      ],
      "metadata": {
        "id": "yrSWkpzqi6C4"
      }
    },
    {
      "cell_type": "markdown",
      "source": [
        "Due to the size of our data and limited RAM capacity (even after purchasing Google Pro+), a stratified subset is taken. The proprtion of computers with malware to computers without malware is found in the train set. The subset size is 50,000 - maximum without crashing."
      ],
      "metadata": {
        "id": "FGnb68I7_bQT"
      }
    },
    {
      "cell_type": "code",
      "source": [],
      "metadata": {
        "id": "C11hwjGlBv3r"
      },
      "execution_count": null,
      "outputs": []
    },
    {
      "cell_type": "code",
      "execution_count": null,
      "metadata": {
        "id": "JuDu0xA6m3_t"
      },
      "outputs": [],
      "source": [
        "target_column = 'HasDetections'\n",
        "\n",
        "# Set the seed for reproducibility\n",
        "seed = 42\n",
        "\n",
        "# Calculate the ratio of positive to negative values in the original dataset\n",
        "original_ratio = (\n",
        "    train_data_spark\n",
        "    .groupBy(target_column)\n",
        "    .count()\n",
        "    .select(\n",
        "        col(target_column),\n",
        "        (col('count') / train_data_spark.count()).alias('ratio')\n",
        "    )\n",
        "    .collect()\n",
        ")"
      ]
    },
    {
      "cell_type": "code",
      "execution_count": null,
      "metadata": {
        "id": "XMR8LyzStH_A",
        "colab": {
          "base_uri": "https://localhost:8080/"
        },
        "outputId": "7b8a496b-052a-449a-def8-333a9bc88324"
      },
      "outputs": [
        {
          "output_type": "execute_result",
          "data": {
            "text/plain": [
              "[Row(HasDetections=1, ratio=0.49979269141688665),\n",
              " Row(HasDetections=0, ratio=0.5002073085831134)]"
            ]
          },
          "metadata": {},
          "execution_count": 92
        }
      ],
      "source": [
        "original_ratio #essentially a 50/50 ratio"
      ]
    },
    {
      "cell_type": "code",
      "execution_count": null,
      "metadata": {
        "id": "vhmls2OHgTvq",
        "colab": {
          "base_uri": "https://localhost:8080/"
        },
        "outputId": "e9022d78-d979-45ce-fd00-03f40f5e621f"
      },
      "outputs": [
        {
          "output_type": "stream",
          "name": "stdout",
          "text": [
            "+--------------------+------------+-------------+----------------+------------+------+----------------+----------------+-------------------------+-------------------------+-------------------+-----------------+------+-----------------+--------------+----------------------+-----------------+---------------------------+---------+---------+--------+-------+-------+--------------------+--------------------+----------+-----------+---------------+-------+-----+---------------+------------+--------+------------+---------------------+-------------------+------------------------+-------------------------+-------------------------+--------------------------------------+-------------------------------+---------------------+-------------------------------+--------------------------+--------------------------------+--------------------------+-----------------------+----------------------+-------------------------------------------------+-------------------------------------------------+-----------------------------------------------+----------------------------+--------------------------+-------------------------------------+----------------+---------------------+--------------------+--------------------+----------------------+------------------+-------------------+------------------------+----------------------------------+---------------------------+--------------------------------+--------------------------------+-----------------------+------------------------+--------------------------+------------------------+-----------------+---------------------+-------------------------------------+--------------------------------+--------------------------+-----------------------+----------------------+---------------------+-------------------+---------------------------------------+------------+---------------------+-------------+\n",
            "|   MachineIdentifier| ProductName|EngineVersion|      AppVersion|AvSigVersion|IsBeta|RtpStateBitfield|IsSxsPassiveMode|DefaultBrowsersIdentifier|AVProductStatesIdentifier|AVProductsInstalled|AVProductsEnabled|HasTpm|CountryIdentifier|CityIdentifier|OrganizationIdentifier|GeoNameIdentifier|LocaleEnglishNameIdentifier| Platform|Processor|   OsVer|OsBuild|OsSuite|OsPlatformSubRelease|          OsBuildLab|SkuEdition|IsProtected|AutoSampleOptIn|PuaMode|SMode|IeVerIdentifier| SmartScreen|Firewall|UacLuaenable|Census_MDC2FormFactor|Census_DeviceFamily|Census_OEMNameIdentifier|Census_OEMModelIdentifier|Census_ProcessorCoreCount|Census_ProcessorManufacturerIdentifier|Census_ProcessorModelIdentifier|Census_ProcessorClass|Census_PrimaryDiskTotalCapacity|Census_PrimaryDiskTypeName|Census_SystemVolumeTotalCapacity|Census_HasOpticalDiskDrive|Census_TotalPhysicalRAM|Census_ChassisTypeName|Census_InternalPrimaryDiagonalDisplaySizeInInches|Census_InternalPrimaryDisplayResolutionHorizontal|Census_InternalPrimaryDisplayResolutionVertical|Census_PowerPlatformRoleName|Census_InternalBatteryType|Census_InternalBatteryNumberOfCharges|Census_OSVersion|Census_OSArchitecture|     Census_OSBranch|Census_OSBuildNumber|Census_OSBuildRevision|  Census_OSEdition|   Census_OSSkuName|Census_OSInstallTypeName|Census_OSInstallLanguageIdentifier|Census_OSUILocaleIdentifier|Census_OSWUAutoUpdateOptionsName|Census_IsPortableOperatingSystem|Census_GenuineStateName|Census_ActivationChannel|Census_IsFlightingInternal|Census_IsFlightsDisabled|Census_FlightRing|Census_ThresholdOptIn|Census_FirmwareManufacturerIdentifier|Census_FirmwareVersionIdentifier|Census_IsSecureBootEnabled|Census_IsWIMBootEnabled|Census_IsVirtualDevice|Census_IsTouchEnabled|Census_IsPenCapable|Census_IsAlwaysOnAlwaysConnectedCapable|Wdft_IsGamer|Wdft_RegionIdentifier|HasDetections|\n",
            "+--------------------+------------+-------------+----------------+------------+------+----------------+----------------+-------------------------+-------------------------+-------------------+-----------------+------+-----------------+--------------+----------------------+-----------------+---------------------------+---------+---------+--------+-------+-------+--------------------+--------------------+----------+-----------+---------------+-------+-----+---------------+------------+--------+------------+---------------------+-------------------+------------------------+-------------------------+-------------------------+--------------------------------------+-------------------------------+---------------------+-------------------------------+--------------------------+--------------------------------+--------------------------+-----------------------+----------------------+-------------------------------------------------+-------------------------------------------------+-----------------------------------------------+----------------------------+--------------------------+-------------------------------------+----------------+---------------------+--------------------+--------------------+----------------------+------------------+-------------------+------------------------+----------------------------------+---------------------------+--------------------------------+--------------------------------+-----------------------+------------------------+--------------------------+------------------------+-----------------+---------------------+-------------------------------------+--------------------------------+--------------------------+-----------------------+----------------------+---------------------+-------------------+---------------------------------------+------------+---------------------+-------------+\n",
            "|013cfe4116ff972e6...|win8defender|  1.1.15100.1| 4.18.1807.18075|1.273.1693.0|     0|               7|               0|                     NULL|                    53447|                  1|                1|     1|              195|         98755|                    18|              277|                         75|windows10|      x64|10.0.0.0|  16299|    768|                 rs3|16299.15.amd64fre...|      Home|          1|              0|   NULL|    0|            135|ExistsNotSet|       1|           1|             Notebook|    Windows.Desktop|                     585|                   189338|                        2|                                     5|                           3405|                 NULL|                       476940.0|                       HDD|                           81434|                         0|                   4096|              Notebook|                                             15.5|                                             1366|                                            768|                      Mobile|                      NULL|                                  0.0|  10.0.16299.125|                amd64|         rs3_release|               16299|                   125|              Core|               CORE|                 Upgrade|                                 8|                         31|                         UNKNOWN|                               0|             IS_GENUINE|                  Retail|                      NULL|                       0|           Retail|                 NULL|                                  556|                           64552|                         1|                   NULL|                     0|                    0|                  0|                                      0|           0|                    1|            1|\n",
            "|007473ff4665ef795...|win8defender|  1.1.15200.1| 4.18.1807.18075| 1.275.913.0|     0|               7|               0|                     NULL|                    53447|                  1|                1|     1|              169|         33839|                  NULL|              209|                        179|windows10|      x64|10.0.0.0|  17134|    768|                 rs4|17134.1.amd64fre....|      Home|          1|              0|   NULL|    0|            137|RequireAdmin|       1|           1|           Detachable|    Windows.Desktop|                    2668|                   171301|                        4|                                     5|                           1916|                 NULL|                        59640.0|                       SSD|                           58362|                         0|                   2048|              HandHeld|                                             10.1|                                             1280|                                            800|                       Slate|                      lion|                              43201.0|  10.0.17134.165|                amd64|         rs4_release|               17134|                   165|              Core|               CORE|              UUPUpgrade|                                28|                        123|                        FullAuto|                               0|             IS_GENUINE|                  OEM:DM|                         0|                       0|           Retail|                    0|                                  628|                            8799|                         0|                      0|                     0|                    1|                  0|                                      1|           0|                    3|            0|\n",
            "|0114b69870a4135d7...|         mse|  1.1.15200.1|      4.10.209.0|1.275.1397.0|     0|               7|               0|                     NULL|                    10712|                  3|                2|     0|              158|         84600|                    27|              277|                         75| windows7|      x86| 6.1.1.0|   7601|    256|            windows7|7601.23915.x86fre...|       Pro|          1|              0|   NULL|    0|            325|        NULL|    NULL|           1|              Desktop|    Windows.Desktop|                    1980|                   228115|                     NULL|                                  NULL|                           NULL|                 NULL|                       476940.0|                       HDD|                          249451|                         0|                   4096|               Desktop|                                             15.5|                                             1366|                                            768|                     Desktop|                      NULL|                                 NULL|  10.0.10586.318|                  x86|         th2_release|               10586|                   318|      Professional|       PROFESSIONAL|                  Update|                                 8|                         31|                        FullAuto|                               0|        INVALID_LICENSE|                  Retail|                      NULL|                    NULL|           Retail|                    0|                                  142|                           33264|                         0|                      0|                     0|                    0|                  0|                                   NULL|           0|                    1|            1|\n",
            "|02778144d85547fa5...|win8defender|  1.1.15200.1| 4.18.1807.18075|  1.275.68.0|     0|               7|               0|                     NULL|                    53447|                  1|                1|     1|               97|        148467|                    27|              126|                        124|windows10|      x64|10.0.0.0|  17134|    256|                 rs4|17134.1.amd64fre....|       Pro|          1|              0|   NULL|    0|            137|        NULL|       1|           1|              Desktop|    Windows.Desktop|                    1980|                   183883|                        8|                                     1|                           1251|                 NULL|                       228936.0|                       SSD|                          228321|                         0|                   8192|               Desktop|                                             23.5|                                             1920|                                           1080|                     Desktop|                      NULL|                        4.294967295E9|  10.0.17134.228|                amd64|         rs4_release|               17134|                   228|      Professional|       PROFESSIONAL|                IBSClean|                                18|                         72|                         UNKNOWN|                               0|             IS_GENUINE|                  Retail|                      NULL|                       0|           Retail|                 NULL|                                  142|                           33357|                         0|                   NULL|                     0|                    0|                  0|                                      0|           0|                   15|            0|\n",
            "|001b60b48a3e3724b...|win8defender|  1.1.15200.1| 4.18.1807.18075| 1.275.284.0|     0|               7|               0|                     NULL|                    53447|                  1|                1|     1|              107|         10392|                    27|              138|                        134|windows10|      x64|10.0.0.0|  17134|    768|                 rs4|17134.1.amd64fre....|      Home|          1|              0|   NULL|    0|            137|         Off|       1|           1|              Desktop|    Windows.Desktop|                    2206|                   339493|                        8|                                     5|                           2891|                 NULL|                       122104.0|                       SSD|                          121488|                         0|                  16384|               Desktop|                                             23.5|                                             1920|                                           1080|                     Desktop|                      NULL|                        4.294967295E9|  10.0.17134.228|                amd64|         rs4_release|               17134|                   228|              Core|               CORE|                IBSClean|                                20|                         83|                        FullAuto|                               0|             IS_GENUINE|             Volume:GVLK|                      NULL|                       0|           Retail|                 NULL|                                   93|                           17560|                         0|                   NULL|                     0|                    0|                  0|                                      0|           1|                    1|            0|\n",
            "|0068366b9fb164cec...|win8defender|  1.1.15100.1| 4.18.1807.18075|1.273.1784.0|     0|               7|               0|                     NULL|                    53447|                  1|                1|     1|               35|        100964|                    27|              277|                         75|windows10|      x64|10.0.0.0|  16299|    768|                 rs3|16299.431.amd64fr...|      Home|          1|              0|   NULL|    0|            117|RequireAdmin|       1|           1|          Convertible|    Windows.Desktop|                     525|                   330904|                        4|                                     5|                           2291|                 NULL|                       476940.0|                       HDD|                          454971|                         0|                   4096|              Notebook|                                             11.6|                                             1366|                                            768|                      Mobile|                      lion|                                  0.0|  10.0.16299.551|                amd64|rs3_release_svc_e...|               16299|                   551|              Core|               CORE|                  Update|                                 8|                         31|            AutoInstallAndReb...|                               0|             IS_GENUINE|                  Retail|                         0|                       0|           Retail|                    0|                                  142|                           68920|                         1|                      0|                     0|                    1|                  0|                                      0|           0|                    4|            0|\n",
            "|019b0640d3cf98e82...|win8defender|  1.1.15200.1|4.16.17656.18052|1.275.1748.0|     0|               7|               0|                     NULL|                    53447|                  1|                1|     1|               29|         34983|                    27|               35|                        171|windows10|      x64|10.0.0.0|  15063|    768|                 rs2|15063.0.amd64fre....|      Home|          1|              0|   NULL|    0|            108|RequireAdmin|       1|           1|             Notebook|    Windows.Desktop|                     585|                   190045|                        4|                                     1|                             41|                 NULL|                       228936.0|                       SSD|                          158587|                         0|                  12288|              Notebook|                                             15.6|                                             1366|                                            768|                      Mobile|                      NULL|                                  0.0| 10.0.15063.1088|                amd64|         rs2_release|               15063|                  1088|              Core|               CORE|                  Update|                                26|                        119|                          Notify|                               0|             IS_GENUINE|                  Retail|                      NULL|                       0|           Retail|                 NULL|                                  556|                           64570|                         1|                   NULL|                     0|                    0|                  0|                                      0|           0|                   10|            0|\n",
            "|00748ed6c06cfaf2a...|win8defender|  1.1.15200.1|4.16.17656.18052|1.275.1384.0|     0|               7|               0|                     NULL|                     6909|                  3|                2|     1|              164|        136408|                    27|              205|                        172|windows10|      x64|10.0.0.0|  17134|    768|                 rs4|17134.1.amd64fre....|      Home|          1|              0|   NULL|    0|            137|RequireAdmin|       1|           1|             Notebook|    Windows.Desktop|                    2668|                   171210|                        4|                                     5|                           2373|                 NULL|                       476940.0|                       HDD|                          431907|                         0|                   4096|              Notebook|                                             15.5|                                             1366|                                            768|                      Mobile|                       lip|                                  0.0|  10.0.17134.228|                amd64|         rs4_release|               17134|                   228|              Core|               CORE|              UUPUpgrade|                                 8|                         31|                        FullAuto|                               0|             IS_GENUINE|                  OEM:DM|                      NULL|                       0|           Retail|                    0|                                  628|                           28483|                         1|                      0|                     0|                    0|                  0|                                      0|           1|                   15|            0|\n",
            "|024b453f76216af67...|win8defender|  1.1.15200.1| 4.18.1807.18075| 1.275.969.0|     0|               0|               1|                     NULL|                    56914|                  2|                1|     1|               89|         66953|                    27|              120|                        262|windows10|      x64|10.0.0.0|  17134|    768|                 rs4|17134.1.amd64fre....|      Home|          1|              0|   NULL|    0|            137|        NULL|       1|           1|           Detachable|    Windows.Desktop|                    1443|                   256448|                        4|                                     5|                           2697|                 NULL|                       122104.0|                       SSD|                          109655|                         0|                   4096|                Laptop|                                             13.2|                                             1920|                                           1080|                      Mobile|                      NULL|                                  0.0|  10.0.17134.228|                amd64|         rs4_release|               17134|                   228|CoreSingleLanguage|CORE_SINGLELANGUAGE|                 Upgrade|                                 8|                         31|                        FullAuto|                               0|             IS_GENUINE|                  OEM:DM|                      NULL|                       0|           Retail|                 NULL|                                  355|                            7148|                         1|                   NULL|                     0|                    1|                  0|                                      0|           0|                    1|            0|\n",
            "|01b6990ffd3babd0e...|win8defender|  1.1.15100.1| 4.18.1806.18062| 1.273.545.0|     0|               7|               0|                     NULL|                    53447|                  1|                1|     1|               81|         56441|                    18|              107|                        224|windows10|      x64|10.0.0.0|  17134|    768|                 rs4|17134.1.amd64fre....|      Home|          1|              0|   NULL|    0|            137|        NULL|       1|           1|             AllInOne|    Windows.Desktop|                    2206|                    31774|                        2|                                     1|                            648|                 NULL|                       476940.0|                       HDD|                          456762|                         0|                   4096|               Desktop|                                             18.5|                                             1366|                                            768|                     Desktop|                      NULL|                        4.294967295E9|  10.0.17134.137|                amd64|         rs4_release|               17134|                   137|CoreSingleLanguage|CORE_SINGLELANGUAGE|                   Reset|                                 9|                         34|                         UNKNOWN|                               0|             IS_GENUINE|                  Retail|                      NULL|                       0|           Retail|                 NULL|                                   93|                           17552|                         1|                   NULL|                     0|                    0|                  0|                                      0|           1|                   10|            1|\n",
            "|0017e83009e77ccfd...|win8defender|  1.1.15200.1| 4.18.1807.18075| 1.275.198.0|     0|               7|               0|                     NULL|                     7945|                  2|                1|     1|              124|         39097|                    27|              170|                        263|windows10|      x86|10.0.0.0|  17134|    768|                 rs4|17134.1.x86fre.rs...|      Home|          1|              0|   NULL|    0|            137|        NULL|       1|           1|             Notebook|    Windows.Desktop|                     585|                   189541|                        2|                                     1|                            659|                 NULL|                       476940.0|                       HDD|                           99451|                         0|                   2048|                Laptop|                                             15.5|                                             1366|                                            768|                      Mobile|                      NULL|                                  0.0|  10.0.17134.112|                  x86|         rs4_release|               17134|                   112|CoreSingleLanguage|CORE_SINGLELANGUAGE|              UUPUpgrade|                                29|                        125|                         UNKNOWN|                               0|             IS_GENUINE|                  OEM:DM|                      NULL|                       0|           Retail|                 NULL|                                  556|                           63122|                         0|                   NULL|                     0|                    0|                  0|                                      0|           0|                    3|            0|\n",
            "|0217f15c3f9ac11ff...|win8defender|  1.1.15100.1| 4.18.1806.18062| 1.273.371.0|     0|               7|               0|                     NULL|                    53447|                  1|                1|     1|              160|        167807|                  NULL|              204|                        170|windows10|      x86|10.0.0.0|  17134|    768|                 rs4|17134.1.x86fre.rs...|      Home|          1|              0|   NULL|    0|            137|RequireAdmin|       1|           1|          LargeTablet|    Windows.Desktop|                    2563|                   256885|                        4|                                     5|                           1916|                 NULL|                        29600.0|                       SSD|                           28890|                         0|                   2048|                Tablet|                                             10.1|                                             1280|                                            800|                       Slate|                      NULL|                              14434.0|  10.0.17134.165|                  x86|         rs4_release|               17134|                   165|              Core|               CORE|          CleanPCRefresh|                                25|                        115|                        FullAuto|                               0|             IS_GENUINE|                  OEM:DM|                      NULL|                       0|           Retail|                 NULL|                                  513|                           42409|                         0|                   NULL|                     0|                    1|                  0|                                      1|           0|                    3|            1|\n",
            "|020b0a822dd07cf56...|win8defender|  1.1.15200.1| 4.18.1807.18075| 1.275.223.0|     0|               7|               0|                     NULL|                    53447|                  1|                1|     1|               93|         28621|                    18|              277|                         75|windows10|      x86|10.0.0.0|  16299|    256|                 rs3|16299.15.x86fre.r...|       Pro|          1|              0|   NULL|    0|            117|RequireAdmin|       1|           1|             Notebook|    Windows.Desktop|                    4142|                   116318|                        4|                                     5|                           2321|                 NULL|                       476940.0|                       HDD|                          475596|                         0|                   4096|                Laptop|                                             15.5|                                             1366|                                            768|                      Mobile|                      NULL|                                105.0|  10.0.16299.547|                  x86|         rs3_release|               16299|                   547|      Professional|       PROFESSIONAL|                 Upgrade|                                 8|                         31|                         UNKNOWN|                               0|             IS_GENUINE|                  Retail|                      NULL|                       0|           Retail|                 NULL|                                  142|                           52302|                         0|                   NULL|                     0|                    1|                  0|                                      0|           0|                    8|            1|\n",
            "|017c53378e3fb36ec...|win8defender|  1.1.15200.1| 4.18.1807.18075|1.275.1244.0|     0|               7|               0|                     NULL|                    53447|                  1|                1|     1|              214|         61668|                    27|              287|                         75|windows10|      x64|10.0.0.0|  17134|    256|                 rs4|17134.1.amd64fre....|       Pro|          1|              0|   NULL|    0|            137|        NULL|       1|           1|              Desktop|    Windows.Desktop|                    4909|                   317701|                        4|                                     5|                           2426|                 NULL|                       953869.0|                       HDD|                          205085|                         0|                   8192|               Desktop|                                             23.0|                                             1920|                                           1080|                     Desktop|                      NULL|                        4.294967295E9|  10.0.17134.285|                amd64|         rs4_release|               17134|                   285|      Professional|       PROFESSIONAL|                IBSClean|                                 8|                         31|                        FullAuto|                               0|             IS_GENUINE|                  Retail|                      NULL|                       0|           Retail|                 NULL|                                  142|                           52570|                         0|                   NULL|                     0|                    0|                  0|                                      0|           1|                    1|            1|\n",
            "|02d74fb459791d691...|win8defender|  1.1.15100.1| 4.18.1807.18075|1.273.1307.0|     0|               7|               0|                     NULL|                    53447|                  1|                1|     1|               35|        148234|                  NULL|               45|                         60|windows10|      x64|10.0.0.0|  17134|    768|                 rs4|17134.1.amd64fre....|      Home|          1|              0|   NULL|    0|            137|        NULL|       1|           1|             Notebook|    Windows.Desktop|                    3133|                   225373|                        8|                                     5|                           2942|                 NULL|                       953869.0|                       HDD|                          952754|                         0|                  12288|               Desktop|                                             17.3|                                             1920|                                           1080|                      Mobile|                      NULL|                                  0.0|  10.0.17134.165|                amd64|         rs4_release|               17134|                   165|              Core|               CORE|                 Refresh|                                 8|                         31|                        FullAuto|                               0|             IS_GENUINE|                  Retail|                      NULL|                       0|           Retail|                 NULL|                                  142|                           30554|                         1|                   NULL|                     0|                    0|                  0|                                      0|           1|                    4|            0|\n",
            "|0292bd3bf079a131d...|win8defender|  1.1.14800.3| 4.10.14393.1613| 1.267.531.0|     0|               7|               0|                     NULL|                    53447|                  1|                1|     1|               41|        130775|                    27|               52|                        217|windows10|      x86|10.0.0.0|  14393|    768|                 rs1|14393.1770.x86fre...|      Home|          1|              0|   NULL|    0|             96|RequireAdmin|       1|           1|             Notebook|    Windows.Desktop|                    2206|                   241511|                        2|                                     1|                            436|                 NULL|                       476940.0|               Unspecified|                          460969|                         1|                   2048|              Notebook|                                             13.9|                                             1366|                                            768|                      Mobile|                      lion|                                  0.0| 10.0.14393.1770|                  x86|         rs1_release|               14393|                  1770|              Core|               CORE|                  Update|                                 9|                         34|                          Notify|                               0|             IS_GENUINE|                  Retail|                      NULL|                       0|           Retail|                    0|                                  500|                           33122|                         0|                      0|                     0|                    0|                  0|                                      0|           0|                   10|            0|\n",
            "|023b123d0eb3ed4dc...|win8defender|  1.1.15100.1| 4.18.1806.18062| 1.273.371.0|     0|               7|               0|                     NULL|                    53447|                  1|                1|     1|              127|          5000|                  NULL|               89|                         88|windows10|      x64|10.0.0.0|  15063|    768|                 rs2|15063.0.amd64fre....|      Home|          1|              0|   NULL|    0|            108|        NULL|       1|           1|             Notebook|    Windows.Desktop|                    2102|                   241876|                        2|                                     5|                           1998|                 NULL|                       476940.0|                       HDD|                          260462|                         0|                   4096|              Notebook|                                             15.5|                                             1366|                                            768|                      Mobile|                      NULL|                                  0.0| 10.0.15063.1088|                amd64|         rs2_release|               15063|                  1088|              Core|               CORE|                   Other|                                14|                         49|                          Notify|                               0|             IS_GENUINE|                  OEM:DM|                      NULL|                       0|           Retail|                 NULL|                                  554|                           33054|                         1|                   NULL|                     0|                    0|                  0|                                      0|           0|                   11|            0|\n",
            "|00321b2b4dba4aaf3...|win8defender|  1.1.15100.1| 4.18.1807.18075|1.273.1108.0|     0|               7|               0|                     NULL|                    53447|                  1|                1|     1|              147|         77794|                  NULL|              277|                         75|windows10|      x64|10.0.0.0|  17134|    256|                 rs4|17134.1.amd64fre....|       Pro|          1|              0|   NULL|    0|            137|RequireAdmin|       1|           1|             Notebook|    Windows.Desktop|                    2206|                   248192|                        4|                                     5|                           2523|                 NULL|                       476940.0|                       HDD|                          475588|                         0|                   8192|              Notebook|                                             15.5|                                             1366|                                            768|                      Mobile|                      lion|                                  0.0|  10.0.17134.165|                amd64|         rs4_release|               17134|                   165|      Professional|       PROFESSIONAL|              UUPUpgrade|                                 8|                         31|                        FullAuto|                               0|        INVALID_LICENSE|                  Retail|                         0|                       0|           Retail|                    0|                                  554|                           33118|                         0|                      0|                     0|                    0|                  0|                                      0|           0|                   11|            0|\n",
            "|01ad8f989330b5da2...|win8defender|  1.1.15200.1| 4.18.1807.18075| 1.275.644.0|     0|               7|               0|                     NULL|                    51954|                  2|                1|     1|               41|        145391|                    18|               52|                        217|windows10|      x64|10.0.0.0|  17134|    768|                 rs4|17134.1.amd64fre....|      Home|          1|              0|   NULL|    0|            137|ExistsNotSet|       1|           1|             Notebook|    Windows.Desktop|                    2102|                   245771|                        4|                                     1|                             84|                 NULL|                       953869.0|                       HDD|                          938318|                         0|                  12288|              Notebook|                                             15.5|                                             1366|                                            768|                      Mobile|                      NULL|                                345.0|  10.0.17134.228|                amd64|         rs4_release|               17134|                   228|CoreSingleLanguage|CORE_SINGLELANGUAGE|                 Upgrade|                                10|                         35|                        FullAuto|                               0|             IS_GENUINE|                  OEM:DM|                      NULL|                       0|           Retail|                 NULL|                                  142|                           33075|                         1|                   NULL|                     0|                    0|                  0|                                      0|           0|                   10|            1|\n",
            "|01014e0a98a99a376...|win8defender|  1.1.15200.1|    4.13.17134.1|1.275.1609.0|     0|               7|               0|                     NULL|                    53447|                  1|                1|     1|               29|         47982|                    18|               35|                        171|windows10|      x64|10.0.0.0|  17134|    768|                 rs4|17134.1.amd64fre....|      Home|          1|              0|   NULL|    0|            137|        NULL|       1|           1|             Notebook|    Windows.Desktop|                     585|                   189227|                        8|                                     5|                           2737|                 NULL|                       114480.0|                       SSD|                          113863|                         0|                   8192|              Notebook|                                             15.5|                                             1366|                                            768|                      Mobile|                      NULL|                                  0.0|  10.0.17134.286|                amd64|         rs4_release|               17134|                   286|CoreSingleLanguage|CORE_SINGLELANGUAGE|                IBSClean|                                26|                        119|                         UNKNOWN|                               0|             IS_GENUINE|                  OEM:DM|                      NULL|                       0|           Retail|                 NULL|                                  556|                           63529|                         1|                   NULL|                     0|                    0|                  0|                                      0|           0|                   10|            1|\n",
            "+--------------------+------------+-------------+----------------+------------+------+----------------+----------------+-------------------------+-------------------------+-------------------+-----------------+------+-----------------+--------------+----------------------+-----------------+---------------------------+---------+---------+--------+-------+-------+--------------------+--------------------+----------+-----------+---------------+-------+-----+---------------+------------+--------+------------+---------------------+-------------------+------------------------+-------------------------+-------------------------+--------------------------------------+-------------------------------+---------------------+-------------------------------+--------------------------+--------------------------------+--------------------------+-----------------------+----------------------+-------------------------------------------------+-------------------------------------------------+-----------------------------------------------+----------------------------+--------------------------+-------------------------------------+----------------+---------------------+--------------------+--------------------+----------------------+------------------+-------------------+------------------------+----------------------------------+---------------------------+--------------------------------+--------------------------------+-----------------------+------------------------+--------------------------+------------------------+-----------------+---------------------+-------------------------------------+--------------------------------+--------------------------+-----------------------+----------------------+---------------------+-------------------+---------------------------------------+------------+---------------------+-------------+\n",
            "only showing top 20 rows\n",
            "\n"
          ]
        }
      ],
      "source": [
        "# Set the positive and negative ratios\n",
        "positive_ratio = .5\n",
        "negative_ratio = 1 - positive_ratio\n",
        "\n",
        "# Calculate the number of rows needed for each class in the subset\n",
        "subset_size = 50000\n",
        "subset_positive_size = int(subset_size * positive_ratio)\n",
        "subset_negative_size = int(subset_size * negative_ratio)\n",
        "\n",
        "# Sample the positive and negative rows to maintain the original ratio\n",
        "positive_rows = (\n",
        "    train_data_spark\n",
        "    .filter(col(target_column) == 1)\n",
        "    .sample(True, positive_ratio, seed=seed)\n",
        "    .limit(subset_positive_size)\n",
        ")\n",
        "\n",
        "negative_rows = (\n",
        "    train_data_spark\n",
        "    .filter(col(target_column) == 0)\n",
        "    .sample(True, negative_ratio, seed=seed)\n",
        "    .limit(subset_negative_size)\n",
        ")\n",
        "\n",
        "# Concatenate positive and negative rows to create the subset\n",
        "subset_data_spark = positive_rows.union(negative_rows)\n",
        "\n",
        "# Shuffle the subset to ensure randomness\n",
        "subset_data_spark = subset_data_spark.orderBy(rand(seed))\n",
        "\n",
        "# Display the first few rows of the subset\n",
        "subset_data_spark.show()"
      ]
    },
    {
      "cell_type": "code",
      "execution_count": null,
      "metadata": {
        "id": "KUp_kSSE4Xj7"
      },
      "outputs": [],
      "source": [
        "train_data = subset_data_spark.toPandas() #convert to Pandas now that dataframe is smaller"
      ]
    },
    {
      "cell_type": "code",
      "source": [
        "train_machine_ids = train_data[\"MachineIdentifier\"]"
      ],
      "metadata": {
        "id": "zWToUfSSLp7Q"
      },
      "execution_count": null,
      "outputs": []
    },
    {
      "cell_type": "markdown",
      "metadata": {
        "id": "6U0sBnWI9h74"
      },
      "source": [
        "#### 3.2) Create Data Dict"
      ]
    },
    {
      "cell_type": "markdown",
      "source": [
        "Our data dictionary allows us to classify columns as binary, numerical, or categorical. This becomes important for feature selection."
      ],
      "metadata": {
        "id": "3jGRNrBxjG_X"
      }
    },
    {
      "cell_type": "code",
      "execution_count": null,
      "metadata": {
        "id": "Pci639v-FjS3"
      },
      "outputs": [],
      "source": [
        "numeric_columns = [\"Census_SystemVolumeTotalCapacity\", \"Census_TotalPhysicalRAM\", \"Census_InternalPrimaryDiagonalDisplaySizeInInches\", \"Census_InternalPrimaryDisplayResolutionHorizontal\", \"Census_InternalPrimaryDisplayResolutionVertical\", \"Census_InternalBatteryNumberOfCharges\"]\n",
        "categorical_columns = [col for col in train_data.columns if col not in numeric_columns]"
      ]
    },
    {
      "cell_type": "code",
      "execution_count": null,
      "metadata": {
        "id": "3x82fnt05oca"
      },
      "outputs": [],
      "source": [
        "# Find binary columns\n",
        "binary_columns = [col for col in train_data.columns if train_data[col].nunique() == 2]\n",
        "binary_columns.pop() #removes target column\n",
        "\n",
        "categorical_columns = set(categorical_columns)-set(binary_columns) #final categorical columns"
      ]
    },
    {
      "cell_type": "code",
      "execution_count": null,
      "metadata": {
        "id": "fvnW0i9y4h0R",
        "colab": {
          "base_uri": "https://localhost:8080/"
        },
        "outputId": "71edf122-9b95-436d-ac69-766ff89b2247"
      },
      "outputs": [
        {
          "output_type": "stream",
          "name": "stdout",
          "text": [
            "Columns w Null % > 50%:\n",
            "['PuaMode', 'Census_ProcessorClass', 'DefaultBrowsersIdentifier', 'Census_IsFlightingInternal', 'Census_InternalBatteryType', 'Census_ThresholdOptIn', 'Census_IsWIMBootEnabled']\n"
          ]
        }
      ],
      "source": [
        "#Drop all columns that have more than 50% null values\n",
        "\n",
        "print(\"Columns w Null % > 50%:\")\n",
        "null_counts_df = pd.DataFrame({'Column': train_data.columns, 'Null Count': train_data.isnull().sum()})\n",
        "non_null_counts_df = pd.DataFrame({'Column': train_data.columns, 'Non Null Count': train_data.notna().sum()})\n",
        "\n",
        "null_counts_df[\"null_counts_percent\"] = null_counts_df[\"Null Count\"] / (null_counts_df[\"Null Count\"] + non_null_counts_df[\"Non Null Count\"])\n",
        "\n",
        "# Filter out columns with zero null values\n",
        "null_counts_df = null_counts_df[null_counts_df['Null Count'] > 0]\n",
        "\n",
        "# Order the DataFrame by the count of non-null values in ascending order\n",
        "null_counts_df = null_counts_df.sort_values(by='null_counts_percent', ascending=False)\n",
        "\n",
        "# Get column names where the percentage of null values is greater than 50%\n",
        "columns_with_high_null_percentage = null_counts_df.loc[null_counts_df[\"null_counts_percent\"] > 0.5, 'Column'].tolist()\n",
        "\n",
        "# Display the resulting list of column names\n",
        "print(columns_with_high_null_percentage)\n",
        "\n",
        "train_data = train_data.drop(columns=columns_with_high_null_percentage)\n",
        "categorical_columns = categorical_columns - set(columns_with_high_null_percentage)\n",
        "binary_columns = set(binary_columns) - set(columns_with_high_null_percentage)"
      ]
    },
    {
      "cell_type": "code",
      "execution_count": null,
      "metadata": {
        "id": "jdqVpXIrsAoc"
      },
      "outputs": [],
      "source": [
        "binary_columns.remove(\"ProductName\")\n",
        "categorical_columns.add(\"ProductName\")\n",
        "binary_columns.remove(\"Census_DeviceFamily\")\n",
        "categorical_columns.add(\"Census_DeviceFamily\")"
      ]
    },
    {
      "cell_type": "code",
      "execution_count": null,
      "metadata": {
        "id": "DNeL3kNeICaB",
        "colab": {
          "base_uri": "https://localhost:8080/"
        },
        "outputId": "dcb4142a-d657-48c2-ec6f-26adb00b499c"
      },
      "outputs": [
        {
          "output_type": "stream",
          "name": "stdout",
          "text": [
            "Categorical columns:\n",
            "{'EngineVersion', 'Census_ProcessorModelIdentifier', 'Census_OEMModelIdentifier', 'OrganizationIdentifier', 'OsBuildLab', 'Census_FirmwareManufacturerIdentifier', 'Census_PrimaryDiskTotalCapacity', 'Census_OSBuildRevision', 'Census_DeviceFamily', 'OsSuite', 'AppVersion', 'RtpStateBitfield', 'OsVer', 'Census_GenuineStateName', 'AVProductStatesIdentifier', 'CityIdentifier', 'Census_OSInstallTypeName', 'ProductName', 'Census_OSEdition', 'AVProductsInstalled', 'Census_MDC2FormFactor', 'OsBuild', 'Census_OSArchitecture', 'Census_FirmwareVersionIdentifier', 'Census_IsFlightsDisabled', 'Census_OSVersion', 'Census_OSUILocaleIdentifier', 'Census_ChassisTypeName', 'Census_PowerPlatformRoleName', 'HasDetections', 'OsPlatformSubRelease', 'IsBeta', 'Census_OSBuildNumber', 'SmartScreen', 'Census_FlightRing', 'MachineIdentifier', 'Census_OSBranch', 'Census_ActivationChannel', 'CountryIdentifier', 'Census_ProcessorCoreCount', 'SkuEdition', 'IeVerIdentifier', 'GeoNameIdentifier', 'Processor', 'Wdft_RegionIdentifier', 'Census_ProcessorManufacturerIdentifier', 'Census_OSSkuName', 'LocaleEnglishNameIdentifier', 'Census_PrimaryDiskTypeName', 'Platform', 'Census_OSInstallLanguageIdentifier', 'Census_OEMNameIdentifier', 'AVProductsEnabled', 'Census_OSWUAutoUpdateOptionsName', 'AvSigVersion'}\n",
            "Binary columns:\n",
            "{'Wdft_IsGamer', 'AutoSampleOptIn', 'UacLuaenable', 'Census_IsVirtualDevice', 'Census_IsPenCapable', 'Census_HasOpticalDiskDrive', 'IsProtected', 'HasTpm', 'Census_IsAlwaysOnAlwaysConnectedCapable', 'Firewall', 'Census_IsTouchEnabled', 'SMode', 'Census_IsSecureBootEnabled', 'Census_IsPortableOperatingSystem', 'IsSxsPassiveMode'}\n",
            "Numerical columns:\n",
            "['Census_SystemVolumeTotalCapacity', 'Census_TotalPhysicalRAM', 'Census_InternalPrimaryDiagonalDisplaySizeInInches', 'Census_InternalPrimaryDisplayResolutionHorizontal', 'Census_InternalPrimaryDisplayResolutionVertical', 'Census_InternalBatteryNumberOfCharges']\n"
          ]
        }
      ],
      "source": [
        "# Display the column types\n",
        "print(\"Categorical columns:\")\n",
        "print(categorical_columns)\n",
        "print(\"Binary columns:\")\n",
        "print(binary_columns)\n",
        "print('Numerical columns:')\n",
        "print(numeric_columns)"
      ]
    },
    {
      "cell_type": "markdown",
      "metadata": {
        "id": "-9bQvgLSLNnN"
      },
      "source": [
        "#### 3.3) Clean null Values"
      ]
    },
    {
      "cell_type": "code",
      "execution_count": null,
      "metadata": {
        "id": "J0YB4HG-4hmv"
      },
      "outputs": [],
      "source": [
        "for col in binary_columns: #fills nulls in binary columns with -1\n",
        "  train_data[col].fillna(-1, inplace=True)\n",
        "\n",
        "for col in categorical_columns: #fills nulls in category columns\n",
        "  train_data[col].fillna(\"No Category\", inplace=True)\n",
        "\n",
        "for col in numeric_columns: #fills nulls in numerical columns with mean\n",
        "  train_data[col].fillna(train_data[col].mean(), inplace=True)"
      ]
    },
    {
      "cell_type": "code",
      "execution_count": null,
      "metadata": {
        "id": "bHb9I3OSOhJl"
      },
      "outputs": [],
      "source": [
        "# Drop machine identifier\n",
        "train_data = train_data.drop(columns = {\"MachineIdentifier\"})\n",
        "categorical_columns.remove(\"MachineIdentifier\")\n",
        "categorical_columns.remove(\"HasDetections\")"
      ]
    },
    {
      "cell_type": "markdown",
      "metadata": {
        "id": "hHpc2P7gN3w3"
      },
      "source": [
        "### 4) Feature Analysis and Selection"
      ]
    },
    {
      "cell_type": "markdown",
      "metadata": {
        "id": "4pkEsVnI-cq-"
      },
      "source": [
        "####  4.1) Perform PCA on Numerical and Binary Data\n"
      ]
    },
    {
      "cell_type": "code",
      "execution_count": null,
      "metadata": {
        "id": "VVU2Xmj-P5Nm"
      },
      "outputs": [],
      "source": [
        "X_pca = train_data.drop(columns=[\"HasDetections\"] + list(categorical_columns))\n",
        "y = train_data[\"HasDetections\"]"
      ]
    },
    {
      "cell_type": "code",
      "execution_count": null,
      "metadata": {
        "id": "JmcmRjFFsdA8",
        "colab": {
          "base_uri": "https://localhost:8080/",
          "height": 256
        },
        "outputId": "5107856f-9b8f-4a52-c1b2-0e0e2e5f882f"
      },
      "outputs": [
        {
          "output_type": "execute_result",
          "data": {
            "text/plain": [
              "   IsSxsPassiveMode  HasTpm  IsProtected  AutoSampleOptIn  SMode  Firewall  \\\n",
              "0                 0       1          1.0                0    0.0       1.0   \n",
              "1                 0       1          1.0                0    0.0       1.0   \n",
              "2                 0       0          1.0                0    0.0      -1.0   \n",
              "3                 0       1          1.0                0    0.0       1.0   \n",
              "4                 0       1          1.0                0    0.0       1.0   \n",
              "\n",
              "   UacLuaenable  Census_SystemVolumeTotalCapacity  Census_HasOpticalDiskDrive  \\\n",
              "0           1.0                           81434.0                           0   \n",
              "1           1.0                           58362.0                           0   \n",
              "2           1.0                          249451.0                           0   \n",
              "3           1.0                          228321.0                           0   \n",
              "4           1.0                          121488.0                           0   \n",
              "\n",
              "   Census_TotalPhysicalRAM  ...  \\\n",
              "0                   4096.0  ...   \n",
              "1                   2048.0  ...   \n",
              "2                   4096.0  ...   \n",
              "3                   8192.0  ...   \n",
              "4                  16384.0  ...   \n",
              "\n",
              "   Census_InternalPrimaryDisplayResolutionHorizontal  \\\n",
              "0                                             1366.0   \n",
              "1                                             1280.0   \n",
              "2                                             1366.0   \n",
              "3                                             1920.0   \n",
              "4                                             1920.0   \n",
              "\n",
              "   Census_InternalPrimaryDisplayResolutionVertical  \\\n",
              "0                                            768.0   \n",
              "1                                            800.0   \n",
              "2                                            768.0   \n",
              "3                                           1080.0   \n",
              "4                                           1080.0   \n",
              "\n",
              "   Census_InternalBatteryNumberOfCharges  Census_IsPortableOperatingSystem  \\\n",
              "0                           0.000000e+00                                 0   \n",
              "1                           4.320100e+04                                 0   \n",
              "2                           1.135793e+09                                 0   \n",
              "3                           4.294967e+09                                 0   \n",
              "4                           4.294967e+09                                 0   \n",
              "\n",
              "   Census_IsSecureBootEnabled  Census_IsVirtualDevice  Census_IsTouchEnabled  \\\n",
              "0                           1                     0.0                      0   \n",
              "1                           0                     0.0                      1   \n",
              "2                           0                     0.0                      0   \n",
              "3                           0                     0.0                      0   \n",
              "4                           0                     0.0                      0   \n",
              "\n",
              "   Census_IsPenCapable  Census_IsAlwaysOnAlwaysConnectedCapable  Wdft_IsGamer  \n",
              "0                    0                                      0.0           0.0  \n",
              "1                    0                                      1.0           0.0  \n",
              "2                    0                                     -1.0           0.0  \n",
              "3                    0                                      0.0           0.0  \n",
              "4                    0                                      0.0           1.0  \n",
              "\n",
              "[5 rows x 21 columns]"
            ],
            "text/html": [
              "\n",
              "  <div id=\"df-42581b84-f18f-4a54-a284-67172aaae6fa\" class=\"colab-df-container\">\n",
              "    <div>\n",
              "<style scoped>\n",
              "    .dataframe tbody tr th:only-of-type {\n",
              "        vertical-align: middle;\n",
              "    }\n",
              "\n",
              "    .dataframe tbody tr th {\n",
              "        vertical-align: top;\n",
              "    }\n",
              "\n",
              "    .dataframe thead th {\n",
              "        text-align: right;\n",
              "    }\n",
              "</style>\n",
              "<table border=\"1\" class=\"dataframe\">\n",
              "  <thead>\n",
              "    <tr style=\"text-align: right;\">\n",
              "      <th></th>\n",
              "      <th>IsSxsPassiveMode</th>\n",
              "      <th>HasTpm</th>\n",
              "      <th>IsProtected</th>\n",
              "      <th>AutoSampleOptIn</th>\n",
              "      <th>SMode</th>\n",
              "      <th>Firewall</th>\n",
              "      <th>UacLuaenable</th>\n",
              "      <th>Census_SystemVolumeTotalCapacity</th>\n",
              "      <th>Census_HasOpticalDiskDrive</th>\n",
              "      <th>Census_TotalPhysicalRAM</th>\n",
              "      <th>...</th>\n",
              "      <th>Census_InternalPrimaryDisplayResolutionHorizontal</th>\n",
              "      <th>Census_InternalPrimaryDisplayResolutionVertical</th>\n",
              "      <th>Census_InternalBatteryNumberOfCharges</th>\n",
              "      <th>Census_IsPortableOperatingSystem</th>\n",
              "      <th>Census_IsSecureBootEnabled</th>\n",
              "      <th>Census_IsVirtualDevice</th>\n",
              "      <th>Census_IsTouchEnabled</th>\n",
              "      <th>Census_IsPenCapable</th>\n",
              "      <th>Census_IsAlwaysOnAlwaysConnectedCapable</th>\n",
              "      <th>Wdft_IsGamer</th>\n",
              "    </tr>\n",
              "  </thead>\n",
              "  <tbody>\n",
              "    <tr>\n",
              "      <th>0</th>\n",
              "      <td>0</td>\n",
              "      <td>1</td>\n",
              "      <td>1.0</td>\n",
              "      <td>0</td>\n",
              "      <td>0.0</td>\n",
              "      <td>1.0</td>\n",
              "      <td>1.0</td>\n",
              "      <td>81434.0</td>\n",
              "      <td>0</td>\n",
              "      <td>4096.0</td>\n",
              "      <td>...</td>\n",
              "      <td>1366.0</td>\n",
              "      <td>768.0</td>\n",
              "      <td>0.000000e+00</td>\n",
              "      <td>0</td>\n",
              "      <td>1</td>\n",
              "      <td>0.0</td>\n",
              "      <td>0</td>\n",
              "      <td>0</td>\n",
              "      <td>0.0</td>\n",
              "      <td>0.0</td>\n",
              "    </tr>\n",
              "    <tr>\n",
              "      <th>1</th>\n",
              "      <td>0</td>\n",
              "      <td>1</td>\n",
              "      <td>1.0</td>\n",
              "      <td>0</td>\n",
              "      <td>0.0</td>\n",
              "      <td>1.0</td>\n",
              "      <td>1.0</td>\n",
              "      <td>58362.0</td>\n",
              "      <td>0</td>\n",
              "      <td>2048.0</td>\n",
              "      <td>...</td>\n",
              "      <td>1280.0</td>\n",
              "      <td>800.0</td>\n",
              "      <td>4.320100e+04</td>\n",
              "      <td>0</td>\n",
              "      <td>0</td>\n",
              "      <td>0.0</td>\n",
              "      <td>1</td>\n",
              "      <td>0</td>\n",
              "      <td>1.0</td>\n",
              "      <td>0.0</td>\n",
              "    </tr>\n",
              "    <tr>\n",
              "      <th>2</th>\n",
              "      <td>0</td>\n",
              "      <td>0</td>\n",
              "      <td>1.0</td>\n",
              "      <td>0</td>\n",
              "      <td>0.0</td>\n",
              "      <td>-1.0</td>\n",
              "      <td>1.0</td>\n",
              "      <td>249451.0</td>\n",
              "      <td>0</td>\n",
              "      <td>4096.0</td>\n",
              "      <td>...</td>\n",
              "      <td>1366.0</td>\n",
              "      <td>768.0</td>\n",
              "      <td>1.135793e+09</td>\n",
              "      <td>0</td>\n",
              "      <td>0</td>\n",
              "      <td>0.0</td>\n",
              "      <td>0</td>\n",
              "      <td>0</td>\n",
              "      <td>-1.0</td>\n",
              "      <td>0.0</td>\n",
              "    </tr>\n",
              "    <tr>\n",
              "      <th>3</th>\n",
              "      <td>0</td>\n",
              "      <td>1</td>\n",
              "      <td>1.0</td>\n",
              "      <td>0</td>\n",
              "      <td>0.0</td>\n",
              "      <td>1.0</td>\n",
              "      <td>1.0</td>\n",
              "      <td>228321.0</td>\n",
              "      <td>0</td>\n",
              "      <td>8192.0</td>\n",
              "      <td>...</td>\n",
              "      <td>1920.0</td>\n",
              "      <td>1080.0</td>\n",
              "      <td>4.294967e+09</td>\n",
              "      <td>0</td>\n",
              "      <td>0</td>\n",
              "      <td>0.0</td>\n",
              "      <td>0</td>\n",
              "      <td>0</td>\n",
              "      <td>0.0</td>\n",
              "      <td>0.0</td>\n",
              "    </tr>\n",
              "    <tr>\n",
              "      <th>4</th>\n",
              "      <td>0</td>\n",
              "      <td>1</td>\n",
              "      <td>1.0</td>\n",
              "      <td>0</td>\n",
              "      <td>0.0</td>\n",
              "      <td>1.0</td>\n",
              "      <td>1.0</td>\n",
              "      <td>121488.0</td>\n",
              "      <td>0</td>\n",
              "      <td>16384.0</td>\n",
              "      <td>...</td>\n",
              "      <td>1920.0</td>\n",
              "      <td>1080.0</td>\n",
              "      <td>4.294967e+09</td>\n",
              "      <td>0</td>\n",
              "      <td>0</td>\n",
              "      <td>0.0</td>\n",
              "      <td>0</td>\n",
              "      <td>0</td>\n",
              "      <td>0.0</td>\n",
              "      <td>1.0</td>\n",
              "    </tr>\n",
              "  </tbody>\n",
              "</table>\n",
              "<p>5 rows × 21 columns</p>\n",
              "</div>\n",
              "    <div class=\"colab-df-buttons\">\n",
              "\n",
              "  <div class=\"colab-df-container\">\n",
              "    <button class=\"colab-df-convert\" onclick=\"convertToInteractive('df-42581b84-f18f-4a54-a284-67172aaae6fa')\"\n",
              "            title=\"Convert this dataframe to an interactive table.\"\n",
              "            style=\"display:none;\">\n",
              "\n",
              "  <svg xmlns=\"http://www.w3.org/2000/svg\" height=\"24px\" viewBox=\"0 -960 960 960\">\n",
              "    <path d=\"M120-120v-720h720v720H120Zm60-500h600v-160H180v160Zm220 220h160v-160H400v160Zm0 220h160v-160H400v160ZM180-400h160v-160H180v160Zm440 0h160v-160H620v160ZM180-180h160v-160H180v160Zm440 0h160v-160H620v160Z\"/>\n",
              "  </svg>\n",
              "    </button>\n",
              "\n",
              "  <style>\n",
              "    .colab-df-container {\n",
              "      display:flex;\n",
              "      gap: 12px;\n",
              "    }\n",
              "\n",
              "    .colab-df-convert {\n",
              "      background-color: #E8F0FE;\n",
              "      border: none;\n",
              "      border-radius: 50%;\n",
              "      cursor: pointer;\n",
              "      display: none;\n",
              "      fill: #1967D2;\n",
              "      height: 32px;\n",
              "      padding: 0 0 0 0;\n",
              "      width: 32px;\n",
              "    }\n",
              "\n",
              "    .colab-df-convert:hover {\n",
              "      background-color: #E2EBFA;\n",
              "      box-shadow: 0px 1px 2px rgba(60, 64, 67, 0.3), 0px 1px 3px 1px rgba(60, 64, 67, 0.15);\n",
              "      fill: #174EA6;\n",
              "    }\n",
              "\n",
              "    .colab-df-buttons div {\n",
              "      margin-bottom: 4px;\n",
              "    }\n",
              "\n",
              "    [theme=dark] .colab-df-convert {\n",
              "      background-color: #3B4455;\n",
              "      fill: #D2E3FC;\n",
              "    }\n",
              "\n",
              "    [theme=dark] .colab-df-convert:hover {\n",
              "      background-color: #434B5C;\n",
              "      box-shadow: 0px 1px 3px 1px rgba(0, 0, 0, 0.15);\n",
              "      filter: drop-shadow(0px 1px 2px rgba(0, 0, 0, 0.3));\n",
              "      fill: #FFFFFF;\n",
              "    }\n",
              "  </style>\n",
              "\n",
              "    <script>\n",
              "      const buttonEl =\n",
              "        document.querySelector('#df-42581b84-f18f-4a54-a284-67172aaae6fa button.colab-df-convert');\n",
              "      buttonEl.style.display =\n",
              "        google.colab.kernel.accessAllowed ? 'block' : 'none';\n",
              "\n",
              "      async function convertToInteractive(key) {\n",
              "        const element = document.querySelector('#df-42581b84-f18f-4a54-a284-67172aaae6fa');\n",
              "        const dataTable =\n",
              "          await google.colab.kernel.invokeFunction('convertToInteractive',\n",
              "                                                    [key], {});\n",
              "        if (!dataTable) return;\n",
              "\n",
              "        const docLinkHtml = 'Like what you see? Visit the ' +\n",
              "          '<a target=\"_blank\" href=https://colab.research.google.com/notebooks/data_table.ipynb>data table notebook</a>'\n",
              "          + ' to learn more about interactive tables.';\n",
              "        element.innerHTML = '';\n",
              "        dataTable['output_type'] = 'display_data';\n",
              "        await google.colab.output.renderOutput(dataTable, element);\n",
              "        const docLink = document.createElement('div');\n",
              "        docLink.innerHTML = docLinkHtml;\n",
              "        element.appendChild(docLink);\n",
              "      }\n",
              "    </script>\n",
              "  </div>\n",
              "\n",
              "\n",
              "<div id=\"df-32708d7c-6ccc-49e7-871a-c65861f46b9c\">\n",
              "  <button class=\"colab-df-quickchart\" onclick=\"quickchart('df-32708d7c-6ccc-49e7-871a-c65861f46b9c')\"\n",
              "            title=\"Suggest charts\"\n",
              "            style=\"display:none;\">\n",
              "\n",
              "<svg xmlns=\"http://www.w3.org/2000/svg\" height=\"24px\"viewBox=\"0 0 24 24\"\n",
              "     width=\"24px\">\n",
              "    <g>\n",
              "        <path d=\"M19 3H5c-1.1 0-2 .9-2 2v14c0 1.1.9 2 2 2h14c1.1 0 2-.9 2-2V5c0-1.1-.9-2-2-2zM9 17H7v-7h2v7zm4 0h-2V7h2v10zm4 0h-2v-4h2v4z\"/>\n",
              "    </g>\n",
              "</svg>\n",
              "  </button>\n",
              "\n",
              "<style>\n",
              "  .colab-df-quickchart {\n",
              "      --bg-color: #E8F0FE;\n",
              "      --fill-color: #1967D2;\n",
              "      --hover-bg-color: #E2EBFA;\n",
              "      --hover-fill-color: #174EA6;\n",
              "      --disabled-fill-color: #AAA;\n",
              "      --disabled-bg-color: #DDD;\n",
              "  }\n",
              "\n",
              "  [theme=dark] .colab-df-quickchart {\n",
              "      --bg-color: #3B4455;\n",
              "      --fill-color: #D2E3FC;\n",
              "      --hover-bg-color: #434B5C;\n",
              "      --hover-fill-color: #FFFFFF;\n",
              "      --disabled-bg-color: #3B4455;\n",
              "      --disabled-fill-color: #666;\n",
              "  }\n",
              "\n",
              "  .colab-df-quickchart {\n",
              "    background-color: var(--bg-color);\n",
              "    border: none;\n",
              "    border-radius: 50%;\n",
              "    cursor: pointer;\n",
              "    display: none;\n",
              "    fill: var(--fill-color);\n",
              "    height: 32px;\n",
              "    padding: 0;\n",
              "    width: 32px;\n",
              "  }\n",
              "\n",
              "  .colab-df-quickchart:hover {\n",
              "    background-color: var(--hover-bg-color);\n",
              "    box-shadow: 0 1px 2px rgba(60, 64, 67, 0.3), 0 1px 3px 1px rgba(60, 64, 67, 0.15);\n",
              "    fill: var(--button-hover-fill-color);\n",
              "  }\n",
              "\n",
              "  .colab-df-quickchart-complete:disabled,\n",
              "  .colab-df-quickchart-complete:disabled:hover {\n",
              "    background-color: var(--disabled-bg-color);\n",
              "    fill: var(--disabled-fill-color);\n",
              "    box-shadow: none;\n",
              "  }\n",
              "\n",
              "  .colab-df-spinner {\n",
              "    border: 2px solid var(--fill-color);\n",
              "    border-color: transparent;\n",
              "    border-bottom-color: var(--fill-color);\n",
              "    animation:\n",
              "      spin 1s steps(1) infinite;\n",
              "  }\n",
              "\n",
              "  @keyframes spin {\n",
              "    0% {\n",
              "      border-color: transparent;\n",
              "      border-bottom-color: var(--fill-color);\n",
              "      border-left-color: var(--fill-color);\n",
              "    }\n",
              "    20% {\n",
              "      border-color: transparent;\n",
              "      border-left-color: var(--fill-color);\n",
              "      border-top-color: var(--fill-color);\n",
              "    }\n",
              "    30% {\n",
              "      border-color: transparent;\n",
              "      border-left-color: var(--fill-color);\n",
              "      border-top-color: var(--fill-color);\n",
              "      border-right-color: var(--fill-color);\n",
              "    }\n",
              "    40% {\n",
              "      border-color: transparent;\n",
              "      border-right-color: var(--fill-color);\n",
              "      border-top-color: var(--fill-color);\n",
              "    }\n",
              "    60% {\n",
              "      border-color: transparent;\n",
              "      border-right-color: var(--fill-color);\n",
              "    }\n",
              "    80% {\n",
              "      border-color: transparent;\n",
              "      border-right-color: var(--fill-color);\n",
              "      border-bottom-color: var(--fill-color);\n",
              "    }\n",
              "    90% {\n",
              "      border-color: transparent;\n",
              "      border-bottom-color: var(--fill-color);\n",
              "    }\n",
              "  }\n",
              "</style>\n",
              "\n",
              "  <script>\n",
              "    async function quickchart(key) {\n",
              "      const quickchartButtonEl =\n",
              "        document.querySelector('#' + key + ' button');\n",
              "      quickchartButtonEl.disabled = true;  // To prevent multiple clicks.\n",
              "      quickchartButtonEl.classList.add('colab-df-spinner');\n",
              "      try {\n",
              "        const charts = await google.colab.kernel.invokeFunction(\n",
              "            'suggestCharts', [key], {});\n",
              "      } catch (error) {\n",
              "        console.error('Error during call to suggestCharts:', error);\n",
              "      }\n",
              "      quickchartButtonEl.classList.remove('colab-df-spinner');\n",
              "      quickchartButtonEl.classList.add('colab-df-quickchart-complete');\n",
              "    }\n",
              "    (() => {\n",
              "      let quickchartButtonEl =\n",
              "        document.querySelector('#df-32708d7c-6ccc-49e7-871a-c65861f46b9c button');\n",
              "      quickchartButtonEl.style.display =\n",
              "        google.colab.kernel.accessAllowed ? 'block' : 'none';\n",
              "    })();\n",
              "  </script>\n",
              "</div>\n",
              "\n",
              "    </div>\n",
              "  </div>\n"
            ]
          },
          "metadata": {},
          "execution_count": 104
        }
      ],
      "source": [
        "X_pca.head()"
      ]
    },
    {
      "cell_type": "code",
      "execution_count": null,
      "metadata": {
        "id": "8ixbk-OL91MH",
        "colab": {
          "base_uri": "https://localhost:8080/"
        },
        "outputId": "7cd67e63-3e69-45d9-9ef8-3f7cf5bd541a"
      },
      "outputs": [
        {
          "output_type": "stream",
          "name": "stdout",
          "text": [
            "Explained Variance Ratio for each Principal Component:\n",
            "   Principal Component  Explained Variance Ratio\n",
            "0                    1                  0.355050\n",
            "1                    2                  0.173129\n",
            "2                    3                  0.155190\n",
            "\n",
            "Top features contributing to the 1 principal component:\n",
            "Census_InternalPrimaryDisplayResolutionHorizontal    0.546156\n",
            "Census_InternalPrimaryDisplayResolutionVertical      0.542619\n",
            "Census_InternalPrimaryDiagonalDisplaySizeInInches    0.396536\n",
            "Census_TotalPhysicalRAM                              0.365182\n",
            "Census_InternalBatteryNumberOfCharges                0.332862\n",
            "dtype: float64\n",
            "\n",
            "Top features contributing to the 2 principal component:\n",
            "Census_InternalBatteryNumberOfCharges                0.631766\n",
            "Census_InternalPrimaryDiagonalDisplaySizeInInches    0.521274\n",
            "Census_SystemVolumeTotalCapacity                     0.066713\n",
            "Wdft_IsGamer                                         0.016854\n",
            "Census_HasOpticalDiskDrive                           0.012156\n",
            "dtype: float64\n",
            "\n",
            "Top features contributing to the 3 principal component:\n",
            "Census_SystemVolumeTotalCapacity    0.894552\n",
            "Census_TotalPhysicalRAM             0.344370\n",
            "Census_IsSecureBootEnabled          0.163517\n",
            "Wdft_IsGamer                        0.013444\n",
            "Firewall                            0.006728\n",
            "dtype: float64\n"
          ]
        }
      ],
      "source": [
        "from sklearn.preprocessing import StandardScaler\n",
        "from sklearn.decomposition import PCA\n",
        "\n",
        "# Separate numerical and binary features\n",
        "X_numeric = train_data[numeric_columns]\n",
        "X_binary = train_data[binary_columns]\n",
        "\n",
        "# Standardize the numerical features\n",
        "scaler = StandardScaler()\n",
        "X_numeric_scaled = scaler.fit_transform(X_numeric)\n",
        "\n",
        "# Combine standardized numerical features and binary features\n",
        "X_combined = pd.concat([pd.DataFrame(X_numeric_scaled, columns=numeric_columns), X_binary], axis=1)\n",
        "\n",
        "# Apply PCA to the combined dataset\n",
        "pca = PCA(n_components=3)\n",
        "X_pca = pca.fit_transform(X_combined)\n",
        "\n",
        "# Explained variance ratio for each principal component\n",
        "explained_variance_ratio = pca.explained_variance_ratio_\n",
        "\n",
        "# Create a DataFrame to display the importance of each principal component\n",
        "components_df = pd.DataFrame({\n",
        "    'Principal Component': range(1, len(explained_variance_ratio) + 1),\n",
        "    'Explained Variance Ratio': explained_variance_ratio\n",
        "})\n",
        "\n",
        "print(\"Explained Variance Ratio for each Principal Component:\")\n",
        "print(components_df)\n",
        "\n",
        "# Display the top features contributing to each principal component\n",
        "for i in range(pca.n_components_):\n",
        "    top_features_pc = pd.Series(pca.components_[i], index=X_combined.columns).sort_values(ascending=False)\n",
        "    print(f\"\\nTop features contributing to the {i+1} principal component:\")\n",
        "    print(top_features_pc.head(5))"
      ]
    },
    {
      "cell_type": "markdown",
      "source": [
        "We see that all numerical columns contribute significantly to each principal component."
      ],
      "metadata": {
        "id": "gVlbOroJjv4j"
      }
    },
    {
      "cell_type": "markdown",
      "metadata": {
        "id": "59YJLFdXRQQu"
      },
      "source": [
        "#### 4.2) Perform LASSO Regression on Categorical Data for Feature Selection"
      ]
    },
    {
      "cell_type": "markdown",
      "source": [
        "A LASSO regression shrinks coefficients to 0. By running this regression and seeing our non-zero coefficients, we can determine the categorial data that is significant in explaining 'HasDetections.'"
      ],
      "metadata": {
        "id": "BkJ4NmIsCCVD"
      }
    },
    {
      "cell_type": "code",
      "execution_count": null,
      "metadata": {
        "id": "LbzoLO_eYhHw"
      },
      "outputs": [],
      "source": [
        "categorical_columns = list(categorical_columns)"
      ]
    },
    {
      "cell_type": "code",
      "execution_count": null,
      "metadata": {
        "id": "bk8qX6MX58Ld",
        "colab": {
          "base_uri": "https://localhost:8080/"
        },
        "outputId": "f185253f-4e1e-416f-dbd4-60a7d9457828"
      },
      "outputs": [
        {
          "output_type": "stream",
          "name": "stdout",
          "text": [
            "[('EngineVersion', 'EngineVersion_1.1.14800.3'), ('EngineVersion', 'EngineVersion_1.1.14901.4'), ('EngineVersion', 'EngineVersion_1.1.15000.2'), ('EngineVersion', 'EngineVersion_1.1.15100.1'), ('Census_ProcessorModelIdentifier', 'Census_ProcessorModelIdentifier_1850.0'), ('Census_OEMModelIdentifier', 'Census_OEMModelIdentifier_313586.0'), ('OsBuildLab', 'OsBuildLab_16299.15.x86fre.rs3_release.170928-1534'), ('Census_FirmwareManufacturerIdentifier', 'Census_FirmwareManufacturerIdentifier_142.0'), ('Census_FirmwareManufacturerIdentifier', 'Census_FirmwareManufacturerIdentifier_486.0'), ('Census_PrimaryDiskTotalCapacity', 'Census_PrimaryDiskTotalCapacity_953869.0'), ('AppVersion', 'AppVersion_4.13.17134.228'), ('AppVersion', 'AppVersion_4.14.17613.18039'), ('AppVersion', 'AppVersion_4.14.17639.18041'), ('AppVersion', 'AppVersion_4.16.17656.18052'), ('AppVersion', 'AppVersion_4.18.1807.18075'), ('RtpStateBitfield', 'RtpStateBitfield_5.0'), ('AVProductStatesIdentifier', 'AVProductStatesIdentifier_7945.0'), ('AVProductStatesIdentifier', 'AVProductStatesIdentifier_11280.0'), ('AVProductStatesIdentifier', 'AVProductStatesIdentifier_41571.0'), ('AVProductStatesIdentifier', 'AVProductStatesIdentifier_47238.0'), ('AVProductStatesIdentifier', 'AVProductStatesIdentifier_53447.0'), ('AVProductStatesIdentifier', 'AVProductStatesIdentifier_63682.0'), ('Census_OSEdition', 'Census_OSEdition_Core'), ('Census_OSEdition', 'Census_OSEdition_CoreSingleLanguage'), ('AVProductsInstalled', 'AVProductsInstalled_3.0'), ('Census_MDC2FormFactor', 'Census_MDC2FormFactor_SmallTablet'), ('OsBuild', 'OsBuildLab_16299.15.x86fre.rs3_release.170928-1534'), ('Census_OSArchitecture', 'Census_OSArchitecture_x86'), ('Census_ChassisTypeName', 'Census_ChassisTypeName_HandHeld'), ('Census_ChassisTypeName', 'Census_ChassisTypeName_Other'), ('Census_PowerPlatformRoleName', 'Census_PowerPlatformRoleName_Slate'), ('OsPlatformSubRelease', 'OsPlatformSubRelease_windows7'), ('SmartScreen', 'SmartScreen_ExistsNotSet'), ('SmartScreen', 'SmartScreen_RequireAdmin'), ('SmartScreen', 'SmartScreen_Warn'), ('Census_ProcessorCoreCount', 'Census_ProcessorCoreCount_2.0'), ('SkuEdition', 'SkuEdition_Invalid'), ('GeoNameIdentifier', 'GeoNameIdentifier_241.0'), ('Processor', 'Processor_x64'), ('Platform', 'Platform_windows7'), ('Census_OSInstallLanguageIdentifier', 'Census_OSInstallLanguageIdentifier_29.0'), ('Census_OEMNameIdentifier', 'Census_OEMNameIdentifier_2102.0'), ('Census_OEMNameIdentifier', 'Census_OEMNameIdentifier_4589.0'), ('Wdft_IsGamer', 'Wdft_IsGamer'), ('Census_IsVirtualDevice', 'Census_IsVirtualDevice'), ('Census_IsAlwaysOnAlwaysConnectedCapable', 'Census_IsAlwaysOnAlwaysConnectedCapable'), ('Census_IsTouchEnabled', 'Census_IsTouchEnabled')]\n"
          ]
        }
      ],
      "source": [
        "from sklearn.preprocessing import StandardScaler\n",
        "from sklearn.linear_model import Lasso\n",
        "\n",
        "# Assuming 'target' is your target variable\n",
        "target = train_data[\"HasDetections\"]\n",
        "\n",
        "# One-hot encode all categorical columns\n",
        "X_encoded = pd.concat([pd.get_dummies(train_data[categorical_columns], drop_first=True), train_data[binary_columns]], axis=1)\n",
        "\n",
        "# Get the mapping between original categorical columns and their one-hot encoded columns\n",
        "one_hot_column_mapping = {}\n",
        "for original_col in categorical_columns:\n",
        "    one_hot_cols = [col for col in X_encoded.columns if col.startswith(original_col)]\n",
        "    one_hot_column_mapping[original_col] = one_hot_cols\n",
        "\n",
        "# Scale the features\n",
        "scaler = StandardScaler()\n",
        "X_scaled = scaler.fit_transform(X_encoded)\n",
        "\n",
        "# Apply LASSO with a specific alpha value\n",
        "lasso = Lasso(alpha=0.01)\n",
        "lasso.fit(X_scaled, target)\n",
        "\n",
        "# Get selected features with the original column names\n",
        "selected_features = [\n",
        "    (original_col, one_hot_col)\n",
        "    for original_col, one_hot_cols in one_hot_column_mapping.items()\n",
        "    for one_hot_col in one_hot_cols\n",
        "    if lasso.coef_[X_encoded.columns.get_loc(one_hot_col)] != 0\n",
        "]\n",
        "\n",
        "# Include selected binary columns\n",
        "selected_features += [(col, col) for col in binary_columns if lasso.coef_[X_encoded.columns.get_loc(col)] != 0]\n",
        "\n",
        "# Print or use the selected features as needed\n",
        "print(selected_features)"
      ]
    },
    {
      "cell_type": "code",
      "execution_count": null,
      "metadata": {
        "id": "xwtyi8a0PHHm",
        "colab": {
          "base_uri": "https://localhost:8080/"
        },
        "outputId": "0e436c07-ff29-4b54-e625-ef4207f28a00"
      },
      "outputs": [
        {
          "output_type": "stream",
          "name": "stdout",
          "text": [
            "['EngineVersion_1.1.14800.3', 'EngineVersion_1.1.14901.4', 'EngineVersion_1.1.15000.2', 'EngineVersion_1.1.15100.1', 'Census_ProcessorModelIdentifier_1850.0', 'Census_OEMModelIdentifier_313586.0', 'OsBuildLab_16299.15.x86fre.rs3_release.170928-1534', 'Census_FirmwareManufacturerIdentifier_142.0', 'Census_FirmwareManufacturerIdentifier_486.0', 'Census_PrimaryDiskTotalCapacity_953869.0', 'AppVersion_4.13.17134.228', 'AppVersion_4.14.17613.18039', 'AppVersion_4.14.17639.18041', 'AppVersion_4.16.17656.18052', 'AppVersion_4.18.1807.18075', 'RtpStateBitfield_5.0', 'AVProductStatesIdentifier_7945.0', 'AVProductStatesIdentifier_11280.0', 'AVProductStatesIdentifier_41571.0', 'AVProductStatesIdentifier_47238.0', 'AVProductStatesIdentifier_53447.0', 'AVProductStatesIdentifier_63682.0', 'Census_OSEdition_Core', 'Census_OSEdition_CoreSingleLanguage', 'AVProductsInstalled_3.0', 'Census_MDC2FormFactor_SmallTablet', 'OsBuildLab_16299.15.x86fre.rs3_release.170928-1534', 'Census_OSArchitecture_x86', 'Census_ChassisTypeName_HandHeld', 'Census_ChassisTypeName_Other', 'Census_PowerPlatformRoleName_Slate', 'OsPlatformSubRelease_windows7', 'SmartScreen_ExistsNotSet', 'SmartScreen_RequireAdmin', 'SmartScreen_Warn', 'Census_ProcessorCoreCount_2.0', 'SkuEdition_Invalid', 'GeoNameIdentifier_241.0', 'Processor_x64', 'Platform_windows7', 'Census_OSInstallLanguageIdentifier_29.0', 'Census_OEMNameIdentifier_2102.0', 'Census_OEMNameIdentifier_4589.0', 'Wdft_IsGamer', 'Census_IsVirtualDevice', 'Census_IsAlwaysOnAlwaysConnectedCapable', 'Census_IsTouchEnabled']\n"
          ]
        }
      ],
      "source": [
        "# Get the list of selected one-hot encoded columns from selected_features\n",
        "selected_one_hot_columns = [col[1] for col in selected_features]\n",
        "\n",
        "# Print the list of selected  columns\n",
        "print(selected_one_hot_columns)"
      ]
    },
    {
      "cell_type": "code",
      "execution_count": null,
      "metadata": {
        "id": "nYuhWhST7PZA"
      },
      "outputs": [],
      "source": [
        "selected_categorical = list(set(selected_one_hot_columns))"
      ]
    },
    {
      "cell_type": "code",
      "execution_count": null,
      "metadata": {
        "id": "K7GUaHBnQZLQ"
      },
      "outputs": [],
      "source": [
        "scaler = StandardScaler()\n",
        "numerical_scaled = scaler.fit_transform(train_data[numeric_columns])\n",
        "numerical_scaled_df = pd.DataFrame(numerical_scaled, columns=numeric_columns)"
      ]
    },
    {
      "cell_type": "code",
      "execution_count": null,
      "metadata": {
        "id": "scJAbxpBQ3oZ"
      },
      "outputs": [],
      "source": [
        "train_one_hot = pd.concat([X_encoded[selected_categorical], numerical_scaled_df], axis = 1)"
      ]
    },
    {
      "cell_type": "code",
      "execution_count": null,
      "metadata": {
        "id": "f7gqRZ1SScEU",
        "colab": {
          "base_uri": "https://localhost:8080/",
          "height": 273
        },
        "outputId": "f4dc359d-3820-4004-841a-c53e06e5e1e9"
      },
      "outputs": [
        {
          "output_type": "execute_result",
          "data": {
            "text/plain": [
              "   OsBuildLab_16299.15.x86fre.rs3_release.170928-1534  \\\n",
              "0                                                  0    \n",
              "1                                                  0    \n",
              "2                                                  0    \n",
              "3                                                  0    \n",
              "4                                                  0    \n",
              "\n",
              "   AppVersion_4.14.17639.18041  GeoNameIdentifier_241.0  \\\n",
              "0                            0                        0   \n",
              "1                            0                        0   \n",
              "2                            0                        0   \n",
              "3                            0                        0   \n",
              "4                            0                        0   \n",
              "\n",
              "   Census_IsVirtualDevice  EngineVersion_1.1.14800.3  \\\n",
              "0                     0.0                          0   \n",
              "1                     0.0                          0   \n",
              "2                     0.0                          0   \n",
              "3                     0.0                          0   \n",
              "4                     0.0                          0   \n",
              "\n",
              "   AVProductStatesIdentifier_41571.0  AppVersion_4.14.17613.18039  \\\n",
              "0                                  0                            0   \n",
              "1                                  0                            0   \n",
              "2                                  0                            0   \n",
              "3                                  0                            0   \n",
              "4                                  0                            0   \n",
              "\n",
              "   Census_OSInstallLanguageIdentifier_29.0  Census_ChassisTypeName_HandHeld  \\\n",
              "0                                        0                                0   \n",
              "1                                        0                                1   \n",
              "2                                        0                                0   \n",
              "3                                        0                                0   \n",
              "4                                        0                                0   \n",
              "\n",
              "   Census_ProcessorCoreCount_2.0  ...  RtpStateBitfield_5.0  \\\n",
              "0                              1  ...                     0   \n",
              "1                              0  ...                     0   \n",
              "2                              0  ...                     0   \n",
              "3                              0  ...                     0   \n",
              "4                              0  ...                     0   \n",
              "\n",
              "   Census_PowerPlatformRoleName_Slate  Census_OEMModelIdentifier_313586.0  \\\n",
              "0                                   0                                   0   \n",
              "1                                   1                                   0   \n",
              "2                                   0                                   0   \n",
              "3                                   0                                   0   \n",
              "4                                   0                                   0   \n",
              "\n",
              "   SmartScreen_RequireAdmin  Census_SystemVolumeTotalCapacity  \\\n",
              "0                         0                         -0.915367   \n",
              "1                         1                         -0.987083   \n",
              "2                         0                         -0.393112   \n",
              "3                         0                         -0.458791   \n",
              "4                         0                         -0.790865   \n",
              "\n",
              "   Census_TotalPhysicalRAM  Census_InternalPrimaryDiagonalDisplaySizeInInches  \\\n",
              "0                -0.395845                                          -0.202005   \n",
              "1                -0.795272                                          -1.073478   \n",
              "2                -0.395845                                          -0.202005   \n",
              "3                 0.403010                                           1.089067   \n",
              "4                 2.000719                                           1.089067   \n",
              "\n",
              "   Census_InternalPrimaryDisplayResolutionHorizontal  \\\n",
              "0                                          -0.502069   \n",
              "1                                          -0.739619   \n",
              "2                                          -0.502069   \n",
              "3                                           1.028196   \n",
              "4                                           1.028196   \n",
              "\n",
              "   Census_InternalPrimaryDisplayResolutionVertical  \\\n",
              "0                                        -0.613887   \n",
              "1                                        -0.461866   \n",
              "2                                        -0.613887   \n",
              "3                                         0.868314   \n",
              "4                                         0.868314   \n",
              "\n",
              "   Census_InternalBatteryNumberOfCharges  \n",
              "0                              -0.609105  \n",
              "1                              -0.609082  \n",
              "2                               0.000000  \n",
              "3                               1.694207  \n",
              "4                               1.694207  \n",
              "\n",
              "[5 rows x 52 columns]"
            ],
            "text/html": [
              "\n",
              "  <div id=\"df-72ec32d8-0705-4215-a3bd-8fbd4446094b\" class=\"colab-df-container\">\n",
              "    <div>\n",
              "<style scoped>\n",
              "    .dataframe tbody tr th:only-of-type {\n",
              "        vertical-align: middle;\n",
              "    }\n",
              "\n",
              "    .dataframe tbody tr th {\n",
              "        vertical-align: top;\n",
              "    }\n",
              "\n",
              "    .dataframe thead th {\n",
              "        text-align: right;\n",
              "    }\n",
              "</style>\n",
              "<table border=\"1\" class=\"dataframe\">\n",
              "  <thead>\n",
              "    <tr style=\"text-align: right;\">\n",
              "      <th></th>\n",
              "      <th>OsBuildLab_16299.15.x86fre.rs3_release.170928-1534</th>\n",
              "      <th>AppVersion_4.14.17639.18041</th>\n",
              "      <th>GeoNameIdentifier_241.0</th>\n",
              "      <th>Census_IsVirtualDevice</th>\n",
              "      <th>EngineVersion_1.1.14800.3</th>\n",
              "      <th>AVProductStatesIdentifier_41571.0</th>\n",
              "      <th>AppVersion_4.14.17613.18039</th>\n",
              "      <th>Census_OSInstallLanguageIdentifier_29.0</th>\n",
              "      <th>Census_ChassisTypeName_HandHeld</th>\n",
              "      <th>Census_ProcessorCoreCount_2.0</th>\n",
              "      <th>...</th>\n",
              "      <th>RtpStateBitfield_5.0</th>\n",
              "      <th>Census_PowerPlatformRoleName_Slate</th>\n",
              "      <th>Census_OEMModelIdentifier_313586.0</th>\n",
              "      <th>SmartScreen_RequireAdmin</th>\n",
              "      <th>Census_SystemVolumeTotalCapacity</th>\n",
              "      <th>Census_TotalPhysicalRAM</th>\n",
              "      <th>Census_InternalPrimaryDiagonalDisplaySizeInInches</th>\n",
              "      <th>Census_InternalPrimaryDisplayResolutionHorizontal</th>\n",
              "      <th>Census_InternalPrimaryDisplayResolutionVertical</th>\n",
              "      <th>Census_InternalBatteryNumberOfCharges</th>\n",
              "    </tr>\n",
              "  </thead>\n",
              "  <tbody>\n",
              "    <tr>\n",
              "      <th>0</th>\n",
              "      <td>0</td>\n",
              "      <td>0</td>\n",
              "      <td>0</td>\n",
              "      <td>0.0</td>\n",
              "      <td>0</td>\n",
              "      <td>0</td>\n",
              "      <td>0</td>\n",
              "      <td>0</td>\n",
              "      <td>0</td>\n",
              "      <td>1</td>\n",
              "      <td>...</td>\n",
              "      <td>0</td>\n",
              "      <td>0</td>\n",
              "      <td>0</td>\n",
              "      <td>0</td>\n",
              "      <td>-0.915367</td>\n",
              "      <td>-0.395845</td>\n",
              "      <td>-0.202005</td>\n",
              "      <td>-0.502069</td>\n",
              "      <td>-0.613887</td>\n",
              "      <td>-0.609105</td>\n",
              "    </tr>\n",
              "    <tr>\n",
              "      <th>1</th>\n",
              "      <td>0</td>\n",
              "      <td>0</td>\n",
              "      <td>0</td>\n",
              "      <td>0.0</td>\n",
              "      <td>0</td>\n",
              "      <td>0</td>\n",
              "      <td>0</td>\n",
              "      <td>0</td>\n",
              "      <td>1</td>\n",
              "      <td>0</td>\n",
              "      <td>...</td>\n",
              "      <td>0</td>\n",
              "      <td>1</td>\n",
              "      <td>0</td>\n",
              "      <td>1</td>\n",
              "      <td>-0.987083</td>\n",
              "      <td>-0.795272</td>\n",
              "      <td>-1.073478</td>\n",
              "      <td>-0.739619</td>\n",
              "      <td>-0.461866</td>\n",
              "      <td>-0.609082</td>\n",
              "    </tr>\n",
              "    <tr>\n",
              "      <th>2</th>\n",
              "      <td>0</td>\n",
              "      <td>0</td>\n",
              "      <td>0</td>\n",
              "      <td>0.0</td>\n",
              "      <td>0</td>\n",
              "      <td>0</td>\n",
              "      <td>0</td>\n",
              "      <td>0</td>\n",
              "      <td>0</td>\n",
              "      <td>0</td>\n",
              "      <td>...</td>\n",
              "      <td>0</td>\n",
              "      <td>0</td>\n",
              "      <td>0</td>\n",
              "      <td>0</td>\n",
              "      <td>-0.393112</td>\n",
              "      <td>-0.395845</td>\n",
              "      <td>-0.202005</td>\n",
              "      <td>-0.502069</td>\n",
              "      <td>-0.613887</td>\n",
              "      <td>0.000000</td>\n",
              "    </tr>\n",
              "    <tr>\n",
              "      <th>3</th>\n",
              "      <td>0</td>\n",
              "      <td>0</td>\n",
              "      <td>0</td>\n",
              "      <td>0.0</td>\n",
              "      <td>0</td>\n",
              "      <td>0</td>\n",
              "      <td>0</td>\n",
              "      <td>0</td>\n",
              "      <td>0</td>\n",
              "      <td>0</td>\n",
              "      <td>...</td>\n",
              "      <td>0</td>\n",
              "      <td>0</td>\n",
              "      <td>0</td>\n",
              "      <td>0</td>\n",
              "      <td>-0.458791</td>\n",
              "      <td>0.403010</td>\n",
              "      <td>1.089067</td>\n",
              "      <td>1.028196</td>\n",
              "      <td>0.868314</td>\n",
              "      <td>1.694207</td>\n",
              "    </tr>\n",
              "    <tr>\n",
              "      <th>4</th>\n",
              "      <td>0</td>\n",
              "      <td>0</td>\n",
              "      <td>0</td>\n",
              "      <td>0.0</td>\n",
              "      <td>0</td>\n",
              "      <td>0</td>\n",
              "      <td>0</td>\n",
              "      <td>0</td>\n",
              "      <td>0</td>\n",
              "      <td>0</td>\n",
              "      <td>...</td>\n",
              "      <td>0</td>\n",
              "      <td>0</td>\n",
              "      <td>0</td>\n",
              "      <td>0</td>\n",
              "      <td>-0.790865</td>\n",
              "      <td>2.000719</td>\n",
              "      <td>1.089067</td>\n",
              "      <td>1.028196</td>\n",
              "      <td>0.868314</td>\n",
              "      <td>1.694207</td>\n",
              "    </tr>\n",
              "  </tbody>\n",
              "</table>\n",
              "<p>5 rows × 52 columns</p>\n",
              "</div>\n",
              "    <div class=\"colab-df-buttons\">\n",
              "\n",
              "  <div class=\"colab-df-container\">\n",
              "    <button class=\"colab-df-convert\" onclick=\"convertToInteractive('df-72ec32d8-0705-4215-a3bd-8fbd4446094b')\"\n",
              "            title=\"Convert this dataframe to an interactive table.\"\n",
              "            style=\"display:none;\">\n",
              "\n",
              "  <svg xmlns=\"http://www.w3.org/2000/svg\" height=\"24px\" viewBox=\"0 -960 960 960\">\n",
              "    <path d=\"M120-120v-720h720v720H120Zm60-500h600v-160H180v160Zm220 220h160v-160H400v160Zm0 220h160v-160H400v160ZM180-400h160v-160H180v160Zm440 0h160v-160H620v160ZM180-180h160v-160H180v160Zm440 0h160v-160H620v160Z\"/>\n",
              "  </svg>\n",
              "    </button>\n",
              "\n",
              "  <style>\n",
              "    .colab-df-container {\n",
              "      display:flex;\n",
              "      gap: 12px;\n",
              "    }\n",
              "\n",
              "    .colab-df-convert {\n",
              "      background-color: #E8F0FE;\n",
              "      border: none;\n",
              "      border-radius: 50%;\n",
              "      cursor: pointer;\n",
              "      display: none;\n",
              "      fill: #1967D2;\n",
              "      height: 32px;\n",
              "      padding: 0 0 0 0;\n",
              "      width: 32px;\n",
              "    }\n",
              "\n",
              "    .colab-df-convert:hover {\n",
              "      background-color: #E2EBFA;\n",
              "      box-shadow: 0px 1px 2px rgba(60, 64, 67, 0.3), 0px 1px 3px 1px rgba(60, 64, 67, 0.15);\n",
              "      fill: #174EA6;\n",
              "    }\n",
              "\n",
              "    .colab-df-buttons div {\n",
              "      margin-bottom: 4px;\n",
              "    }\n",
              "\n",
              "    [theme=dark] .colab-df-convert {\n",
              "      background-color: #3B4455;\n",
              "      fill: #D2E3FC;\n",
              "    }\n",
              "\n",
              "    [theme=dark] .colab-df-convert:hover {\n",
              "      background-color: #434B5C;\n",
              "      box-shadow: 0px 1px 3px 1px rgba(0, 0, 0, 0.15);\n",
              "      filter: drop-shadow(0px 1px 2px rgba(0, 0, 0, 0.3));\n",
              "      fill: #FFFFFF;\n",
              "    }\n",
              "  </style>\n",
              "\n",
              "    <script>\n",
              "      const buttonEl =\n",
              "        document.querySelector('#df-72ec32d8-0705-4215-a3bd-8fbd4446094b button.colab-df-convert');\n",
              "      buttonEl.style.display =\n",
              "        google.colab.kernel.accessAllowed ? 'block' : 'none';\n",
              "\n",
              "      async function convertToInteractive(key) {\n",
              "        const element = document.querySelector('#df-72ec32d8-0705-4215-a3bd-8fbd4446094b');\n",
              "        const dataTable =\n",
              "          await google.colab.kernel.invokeFunction('convertToInteractive',\n",
              "                                                    [key], {});\n",
              "        if (!dataTable) return;\n",
              "\n",
              "        const docLinkHtml = 'Like what you see? Visit the ' +\n",
              "          '<a target=\"_blank\" href=https://colab.research.google.com/notebooks/data_table.ipynb>data table notebook</a>'\n",
              "          + ' to learn more about interactive tables.';\n",
              "        element.innerHTML = '';\n",
              "        dataTable['output_type'] = 'display_data';\n",
              "        await google.colab.output.renderOutput(dataTable, element);\n",
              "        const docLink = document.createElement('div');\n",
              "        docLink.innerHTML = docLinkHtml;\n",
              "        element.appendChild(docLink);\n",
              "      }\n",
              "    </script>\n",
              "  </div>\n",
              "\n",
              "\n",
              "<div id=\"df-d32377d9-b643-4c0f-87fd-02b8fc56a927\">\n",
              "  <button class=\"colab-df-quickchart\" onclick=\"quickchart('df-d32377d9-b643-4c0f-87fd-02b8fc56a927')\"\n",
              "            title=\"Suggest charts\"\n",
              "            style=\"display:none;\">\n",
              "\n",
              "<svg xmlns=\"http://www.w3.org/2000/svg\" height=\"24px\"viewBox=\"0 0 24 24\"\n",
              "     width=\"24px\">\n",
              "    <g>\n",
              "        <path d=\"M19 3H5c-1.1 0-2 .9-2 2v14c0 1.1.9 2 2 2h14c1.1 0 2-.9 2-2V5c0-1.1-.9-2-2-2zM9 17H7v-7h2v7zm4 0h-2V7h2v10zm4 0h-2v-4h2v4z\"/>\n",
              "    </g>\n",
              "</svg>\n",
              "  </button>\n",
              "\n",
              "<style>\n",
              "  .colab-df-quickchart {\n",
              "      --bg-color: #E8F0FE;\n",
              "      --fill-color: #1967D2;\n",
              "      --hover-bg-color: #E2EBFA;\n",
              "      --hover-fill-color: #174EA6;\n",
              "      --disabled-fill-color: #AAA;\n",
              "      --disabled-bg-color: #DDD;\n",
              "  }\n",
              "\n",
              "  [theme=dark] .colab-df-quickchart {\n",
              "      --bg-color: #3B4455;\n",
              "      --fill-color: #D2E3FC;\n",
              "      --hover-bg-color: #434B5C;\n",
              "      --hover-fill-color: #FFFFFF;\n",
              "      --disabled-bg-color: #3B4455;\n",
              "      --disabled-fill-color: #666;\n",
              "  }\n",
              "\n",
              "  .colab-df-quickchart {\n",
              "    background-color: var(--bg-color);\n",
              "    border: none;\n",
              "    border-radius: 50%;\n",
              "    cursor: pointer;\n",
              "    display: none;\n",
              "    fill: var(--fill-color);\n",
              "    height: 32px;\n",
              "    padding: 0;\n",
              "    width: 32px;\n",
              "  }\n",
              "\n",
              "  .colab-df-quickchart:hover {\n",
              "    background-color: var(--hover-bg-color);\n",
              "    box-shadow: 0 1px 2px rgba(60, 64, 67, 0.3), 0 1px 3px 1px rgba(60, 64, 67, 0.15);\n",
              "    fill: var(--button-hover-fill-color);\n",
              "  }\n",
              "\n",
              "  .colab-df-quickchart-complete:disabled,\n",
              "  .colab-df-quickchart-complete:disabled:hover {\n",
              "    background-color: var(--disabled-bg-color);\n",
              "    fill: var(--disabled-fill-color);\n",
              "    box-shadow: none;\n",
              "  }\n",
              "\n",
              "  .colab-df-spinner {\n",
              "    border: 2px solid var(--fill-color);\n",
              "    border-color: transparent;\n",
              "    border-bottom-color: var(--fill-color);\n",
              "    animation:\n",
              "      spin 1s steps(1) infinite;\n",
              "  }\n",
              "\n",
              "  @keyframes spin {\n",
              "    0% {\n",
              "      border-color: transparent;\n",
              "      border-bottom-color: var(--fill-color);\n",
              "      border-left-color: var(--fill-color);\n",
              "    }\n",
              "    20% {\n",
              "      border-color: transparent;\n",
              "      border-left-color: var(--fill-color);\n",
              "      border-top-color: var(--fill-color);\n",
              "    }\n",
              "    30% {\n",
              "      border-color: transparent;\n",
              "      border-left-color: var(--fill-color);\n",
              "      border-top-color: var(--fill-color);\n",
              "      border-right-color: var(--fill-color);\n",
              "    }\n",
              "    40% {\n",
              "      border-color: transparent;\n",
              "      border-right-color: var(--fill-color);\n",
              "      border-top-color: var(--fill-color);\n",
              "    }\n",
              "    60% {\n",
              "      border-color: transparent;\n",
              "      border-right-color: var(--fill-color);\n",
              "    }\n",
              "    80% {\n",
              "      border-color: transparent;\n",
              "      border-right-color: var(--fill-color);\n",
              "      border-bottom-color: var(--fill-color);\n",
              "    }\n",
              "    90% {\n",
              "      border-color: transparent;\n",
              "      border-bottom-color: var(--fill-color);\n",
              "    }\n",
              "  }\n",
              "</style>\n",
              "\n",
              "  <script>\n",
              "    async function quickchart(key) {\n",
              "      const quickchartButtonEl =\n",
              "        document.querySelector('#' + key + ' button');\n",
              "      quickchartButtonEl.disabled = true;  // To prevent multiple clicks.\n",
              "      quickchartButtonEl.classList.add('colab-df-spinner');\n",
              "      try {\n",
              "        const charts = await google.colab.kernel.invokeFunction(\n",
              "            'suggestCharts', [key], {});\n",
              "      } catch (error) {\n",
              "        console.error('Error during call to suggestCharts:', error);\n",
              "      }\n",
              "      quickchartButtonEl.classList.remove('colab-df-spinner');\n",
              "      quickchartButtonEl.classList.add('colab-df-quickchart-complete');\n",
              "    }\n",
              "    (() => {\n",
              "      let quickchartButtonEl =\n",
              "        document.querySelector('#df-d32377d9-b643-4c0f-87fd-02b8fc56a927 button');\n",
              "      quickchartButtonEl.style.display =\n",
              "        google.colab.kernel.accessAllowed ? 'block' : 'none';\n",
              "    })();\n",
              "  </script>\n",
              "</div>\n",
              "\n",
              "    </div>\n",
              "  </div>\n"
            ]
          },
          "metadata": {},
          "execution_count": 112
        }
      ],
      "source": [
        "train_one_hot.head() #this represents our final dataset for training"
      ]
    },
    {
      "cell_type": "markdown",
      "metadata": {
        "id": "fem8xY_iVJj0"
      },
      "source": [
        "### 5) Model Selection"
      ]
    },
    {
      "cell_type": "code",
      "execution_count": null,
      "metadata": {
        "id": "25dO115WUmwQ"
      },
      "outputs": [],
      "source": [
        "#separate target\n",
        "X = train_one_hot\n",
        "y = train_data[\"HasDetections\"]"
      ]
    },
    {
      "cell_type": "code",
      "source": [
        "len(train_one_hot.columns)"
      ],
      "metadata": {
        "colab": {
          "base_uri": "https://localhost:8080/"
        },
        "id": "GBRT6vP7g5u9",
        "outputId": "2602d081-5078-4ccd-f3df-5218c5fb302d"
      },
      "execution_count": null,
      "outputs": [
        {
          "output_type": "execute_result",
          "data": {
            "text/plain": [
              "52"
            ]
          },
          "metadata": {},
          "execution_count": 114
        }
      ]
    },
    {
      "cell_type": "code",
      "execution_count": null,
      "metadata": {
        "id": "e6PD0L45VQ7g",
        "colab": {
          "base_uri": "https://localhost:8080/"
        },
        "outputId": "b21cfbcb-9d1d-480a-c1a8-9bd6ddcc9f72"
      },
      "outputs": [
        {
          "output_type": "stream",
          "name": "stdout",
          "text": [
            "Shape of X_train: (40000, 52)\n",
            "Shape of X_test: (10000, 52)\n",
            "Shape of y_train: (40000,)\n",
            "Shape of y_test: (10000,)\n"
          ]
        }
      ],
      "source": [
        "from sklearn.model_selection import train_test_split\n",
        "\n",
        "# Split the data into training and testing sets\n",
        "X_train, X_test, y_train, y_test = train_test_split(X, y, test_size=0.2, random_state=42)\n",
        "\n",
        "# Print the shapes of the resulting sets\n",
        "print(\"Shape of X_train:\", X_train.shape)\n",
        "print(\"Shape of X_test:\", X_test.shape)\n",
        "print(\"Shape of y_train:\", y_train.shape)\n",
        "print(\"Shape of y_test:\", y_test.shape)"
      ]
    },
    {
      "cell_type": "markdown",
      "metadata": {
        "id": "HqLBtnqeF88I"
      },
      "source": [
        "#### 5.1) Logistic Regression"
      ]
    },
    {
      "cell_type": "code",
      "execution_count": null,
      "metadata": {
        "id": "BgxC5h4RyXR9",
        "colab": {
          "base_uri": "https://localhost:8080/",
          "height": 772
        },
        "outputId": "3a5d521a-6b5e-416d-ffb2-2009119ba3ec"
      },
      "outputs": [
        {
          "output_type": "stream",
          "name": "stdout",
          "text": [
            "\n",
            "Model Evaluation on Test Set:\n",
            "Accuracy: 0.6338\n",
            "Precision: 0.636795374767706\n",
            "Recall: 0.6184078604371366\n",
            "F1 Score: 0.6274669379450661\n",
            "\n",
            "Confusion Matrix:\n",
            "[[3254 1759]\n",
            " [1903 3084]]\n",
            "\n",
            "Area Under the ROC Curve (AUC): 0.6909000304842061\n"
          ]
        },
        {
          "output_type": "display_data",
          "data": {
            "text/plain": [
              "<Figure size 800x600 with 1 Axes>"
            ],
            "image/png": "[encoded data removed]"
          },
          "metadata": {}
        }
      ],
      "source": [
        "from sklearn.linear_model import LogisticRegression\n",
        "from sklearn.metrics import roc_curve, roc_auc_score, accuracy_score, precision_score, recall_score, f1_score, confusion_matrix\n",
        "import matplotlib.pyplot as plt\n",
        "\n",
        "# Create a Logistic Regression model\n",
        "model = LogisticRegression()\n",
        "\n",
        "# Train the model on the training set\n",
        "model.fit(X_train, y_train)\n",
        "\n",
        "# Make probability predictions on the test set\n",
        "y_prob = model.predict_proba(X_test)[:, 1]  # Probability of class 1\n",
        "\n",
        "# Convert probabilities to binary predictions using a threshold\n",
        "threshold = 0.5\n",
        "y_pred = (y_prob > threshold).astype(int)\n",
        "\n",
        "# Evaluate the model\n",
        "accuracy = accuracy_score(y_test, y_pred)\n",
        "precision = precision_score(y_test, y_pred)\n",
        "recall = recall_score(y_test, y_pred)\n",
        "f1 = f1_score(y_test, y_pred)\n",
        "conf_matrix = confusion_matrix(y_test, y_pred)\n",
        "\n",
        "# Print additional metrics\n",
        "print(\"\\nModel Evaluation on Test Set:\")\n",
        "print(\"Accuracy:\", accuracy)\n",
        "print(\"Precision:\", precision)\n",
        "print(\"Recall:\", recall)\n",
        "print(\"F1 Score:\", f1)\n",
        "print(\"\\nConfusion Matrix:\")\n",
        "print(conf_matrix)\n",
        "\n",
        "# Compute ROC curve\n",
        "fpr, tpr, thresholds = roc_curve(y_test, y_prob)\n",
        "\n",
        "# Compute AUC\n",
        "auc_value = roc_auc_score(y_test, y_prob)\n",
        "\n",
        "# Print AUC\n",
        "print(\"\\nArea Under the ROC Curve (AUC):\", auc_value)\n",
        "\n",
        "# Plot ROC curve\n",
        "plt.figure(figsize=(8, 6))\n",
        "plt.plot(fpr, tpr, label=f'AUC = {auc_value:.2f}')\n",
        "plt.plot([0, 1], [0, 1], 'k--', label='Random')\n",
        "plt.xlabel('False Positive Rate (1 - Specificity)')\n",
        "plt.ylabel('True Positive Rate (Sensitivity)')\n",
        "plt.title('Receiver Operating Characteristic (ROC) Curve')\n",
        "plt.legend()\n",
        "plt.show()\n"
      ]
    },
    {
      "cell_type": "markdown",
      "source": [
        "Since this is a classification problem, the first model tested was a logistic regression. The model, its test statistics, and a confusion matrix are provided."
      ],
      "metadata": {
        "id": "oi9SV2MVC0Zu"
      }
    },
    {
      "cell_type": "markdown",
      "metadata": {
        "id": "RBtCkpc8Fxm8"
      },
      "source": [
        "#### 5.2) Random Forest"
      ]
    },
    {
      "cell_type": "code",
      "execution_count": null,
      "metadata": {
        "id": "h4J8lG_pDwPa",
        "colab": {
          "base_uri": "https://localhost:8080/",
          "height": 842
        },
        "outputId": "24e923aa-8860-44d7-d84b-eb37b3b02b17"
      },
      "outputs": [
        {
          "output_type": "stream",
          "name": "stdout",
          "text": [
            "\n",
            "Best Random Forest Hyperparameters: OrderedDict([('max_depth', 20), ('min_samples_leaf', 1), ('min_samples_split', 2), ('n_estimators', 100)])\n",
            "\n",
            "Random Forest - Cross-Validation Scores: 0.6890499999999999\n",
            "\n",
            "Random Forest - Model Evaluation on Test Set:\n",
            "Accuracy: 0.6925\n",
            "Precision: 0.6893069306930693\n",
            "Recall: 0.6980148385803088\n",
            "F1 Score: 0.6936335558433795\n",
            "\n",
            "Random Forest - Confusion Matrix:\n",
            "[[3444 1569]\n",
            " [1506 3481]]\n",
            "\n",
            "Area Under the ROC Curve (AUC): 0.7723373010001547\n"
          ]
        },
        {
          "output_type": "display_data",
          "data": {
            "text/plain": [
              "<Figure size 800x600 with 1 Axes>"
            ],
            "image/png": "[encoded data removed]"
          },
          "metadata": {}
        }
      ],
      "source": [
        "import warnings\n",
        "from sklearn.ensemble import RandomForestClassifier\n",
        "from skopt import BayesSearchCV\n",
        "from sklearn.model_selection import StratifiedKFold\n",
        "from sklearn.metrics import accuracy_score, precision_score, recall_score, f1_score, confusion_matrix, roc_curve, roc_auc_score\n",
        "import matplotlib.pyplot as plt\n",
        "\n",
        "warnings.filterwarnings(\"ignore\")\n",
        "\n",
        "# RandomForestClassifier\n",
        "rf_model = RandomForestClassifier(random_state=42)\n",
        "\n",
        "# Define the hyperparameter search space\n",
        "param_space = {\n",
        "    'n_estimators': (10, 100),\n",
        "    'max_depth': (1, 20),\n",
        "    'min_samples_split': (2, 20),\n",
        "    'min_samples_leaf': (1, 20),\n",
        "}\n",
        "\n",
        "# Use BayesSearchCV to find the best hyperparameters for RandomForestClassifier\n",
        "bayes_search_rf = BayesSearchCV(rf_model, param_space,\n",
        "                                cv=StratifiedKFold(n_splits=5, shuffle=True, random_state=42),\n",
        "                                scoring='accuracy', n_iter=50, random_state=42, n_jobs=-1)\n",
        "bayes_search_rf.fit(X_train, y_train)\n",
        "\n",
        "# Print the best hyperparameters\n",
        "print(\"\\nBest Random Forest Hyperparameters:\", bayes_search_rf.best_params_)\n",
        "\n",
        "# Train the RandomForestClassifier with the best hyperparameters\n",
        "best_rf_model = bayes_search_rf.best_estimator_\n",
        "best_rf_model.fit(X_train, y_train)\n",
        "\n",
        "# Make probability predictions using RandomForestClassifier on the test set\n",
        "y_pred_prob_rf = best_rf_model.predict_proba(X_test)[:, 1]\n",
        "\n",
        "# Set a threshold to convert probabilities to binary predictions\n",
        "threshold = 0.5\n",
        "y_pred_rf = (y_pred_prob_rf > threshold).astype(int)\n",
        "\n",
        "\n",
        "# Evaluate the RandomForestClassifier model\n",
        "accuracy_rf = accuracy_score(y_test, y_pred_rf)\n",
        "precision_rf = precision_score(y_test, y_pred_rf)\n",
        "recall_rf = recall_score(y_test, y_pred_rf)\n",
        "f1_rf = f1_score(y_test, y_pred_rf)\n",
        "conf_matrix_rf = confusion_matrix(y_test, y_pred_rf)\n",
        "\n",
        "# Print the results for RandomForestClassifier\n",
        "print(\"\\nRandom Forest - Cross-Validation Scores:\", bayes_search_rf.best_score_)\n",
        "print(\"\\nRandom Forest - Model Evaluation on Test Set:\")\n",
        "print(\"Accuracy:\", accuracy_rf)\n",
        "print(\"Precision:\", precision_rf)\n",
        "print(\"Recall:\", recall_rf)\n",
        "print(\"F1 Score:\", f1_rf)\n",
        "print(\"\\nRandom Forest - Confusion Matrix:\")\n",
        "print(conf_matrix_rf)\n",
        "\n",
        "# Compute ROC curve\n",
        "fpr, tpr, thresholds = roc_curve(y_test, y_pred_prob_rf)\n",
        "\n",
        "# Compute AUC\n",
        "auc_value = roc_auc_score(y_test, y_pred_prob_rf)\n",
        "\n",
        "# Print AUC\n",
        "print(\"\\nArea Under the ROC Curve (AUC):\", auc_value)\n",
        "\n",
        "# Plot ROC curve\n",
        "plt.figure(figsize=(8, 6))\n",
        "plt.plot(fpr, tpr, label=f'AUC = {auc_value:.2f}')\n",
        "plt.plot([0, 1], [0, 1], 'k--', label='Random')\n",
        "plt.xlabel('False Positive Rate (1 - Specificity)')\n",
        "plt.ylabel('True Positive Rate (Sensitivity)')\n",
        "plt.title('Receiver Operating Characteristic (ROC) Curve')\n",
        "plt.legend()\n",
        "plt.show()"
      ]
    },
    {
      "cell_type": "markdown",
      "source": [
        "Due to potential multicollinearity and non-linear relationships, a random forest model was implemented. This performed significantly better than the logisitic regression. The hyperparameters are fine tuned using a Bayesian search instead of a grid search to minimize the computing cost."
      ],
      "metadata": {
        "id": "bQ-7yptxDNWr"
      }
    },
    {
      "cell_type": "markdown",
      "metadata": {
        "id": "dO_ikGcfG3Dl"
      },
      "source": [
        "#### 5.3) KNN"
      ]
    },
    {
      "cell_type": "code",
      "execution_count": null,
      "metadata": {
        "id": "cUj_GgjWG58V",
        "colab": {
          "base_uri": "https://localhost:8080/",
          "height": 790
        },
        "outputId": "6fe35cf9-faec-4302-b359-2636e6f63764"
      },
      "outputs": [
        {
          "output_type": "stream",
          "name": "stdout",
          "text": [
            "Best Parameters: {'n_neighbors': 1}\n",
            "\n",
            "Best KNN Model Evaluation on Test Set:\n",
            "Accuracy: 0.6905\n",
            "Precision: 0.6880715705765408\n",
            "Recall: 0.6940044114698215\n",
            "F1 Score: 0.6910252570629928\n",
            "\n",
            "Confusion Matrix:\n",
            "[[3444 1569]\n",
            " [1526 3461]]\n",
            "\n",
            "Area Under the ROC Curve (AUC) for Best Model: 0.6905090878414337\n"
          ]
        },
        {
          "output_type": "display_data",
          "data": {
            "text/plain": [
              "<Figure size 800x600 with 1 Axes>"
            ],
            "image/png": "[encoded data removed]"
          },
          "metadata": {}
        }
      ],
      "source": [
        "from sklearn.model_selection import GridSearchCV\n",
        "from sklearn.neighbors import KNeighborsClassifier\n",
        "\n",
        "# Define the parameter grid for k\n",
        "param_grid = {'n_neighbors': range(1, 21)}  # Adjust the range as needed\n",
        "\n",
        "# Create a KNN model\n",
        "knn_model = KNeighborsClassifier()\n",
        "\n",
        "# Use StratifiedKFold for cross-validation\n",
        "cv = StratifiedKFold(n_splits=5, shuffle=True, random_state=42)\n",
        "\n",
        "# Initialize GridSearchCV\n",
        "grid_search = GridSearchCV(knn_model, param_grid, cv=cv, scoring='roc_auc', n_jobs=-1)\n",
        "\n",
        "# Fit the model with cross-validation and find the best parameters\n",
        "grid_search.fit(X_train, y_train)\n",
        "\n",
        "# Get the best estimator and best parameters\n",
        "best_knn_model = grid_search.best_estimator_\n",
        "best_params = grid_search.best_params_\n",
        "\n",
        "# Print the best parameters\n",
        "print(\"Best Parameters:\", best_params)\n",
        "\n",
        "# Make predictions on the test set\n",
        "y_pred_prob_best_knn = best_knn_model.predict_proba(X_test)[:, 1]\n",
        "\n",
        "# Evaluate the model\n",
        "accuracy_best_knn = accuracy_score(y_test, (y_pred_prob_best_knn > threshold).astype(int))\n",
        "precision_best_knn = precision_score(y_test, (y_pred_prob_best_knn > threshold).astype(int))\n",
        "recall_best_knn = recall_score(y_test, (y_pred_prob_best_knn > threshold).astype(int))\n",
        "f1_best_knn = f1_score(y_test, (y_pred_prob_best_knn > threshold).astype(int))\n",
        "conf_matrix_best_knn = confusion_matrix(y_test, (y_pred_prob_best_knn > threshold).astype(int))\n",
        "\n",
        "# Print the results\n",
        "print(\"\\nBest KNN Model Evaluation on Test Set:\")\n",
        "print(\"Accuracy:\", accuracy_best_knn)\n",
        "print(\"Precision:\", precision_best_knn)\n",
        "print(\"Recall:\", recall_best_knn)\n",
        "print(\"F1 Score:\", f1_best_knn)\n",
        "print(\"\\nConfusion Matrix:\")\n",
        "print(conf_matrix_best_knn)\n",
        "\n",
        "# Compute ROC curve for the best model\n",
        "fpr_best, tpr_best, thresholds_best = roc_curve(y_test, y_pred_prob_best_knn)\n",
        "\n",
        "# Compute AUC for the best model\n",
        "auc_value_best = roc_auc_score(y_test, y_pred_prob_best_knn)\n",
        "\n",
        "# Print AUC for the best model\n",
        "print(\"\\nArea Under the ROC Curve (AUC) for Best Model:\", auc_value_best)\n",
        "\n",
        "# Plot ROC curve for the best model\n",
        "plt.figure(figsize=(8, 6))\n",
        "plt.plot(fpr_best, tpr_best, label=f'AUC = {auc_value_best:.2f}')\n",
        "plt.plot([0, 1], [0, 1], 'k--', label='Random')\n",
        "plt.xlabel('False Positive Rate (1 - Specificity)')\n",
        "plt.ylabel('True Positive Rate (Sensitivity)')\n",
        "plt.title('Receiver Operating Characteristic (ROC) Curve for Best Model')\n",
        "plt.legend()\n",
        "plt.show()"
      ]
    },
    {
      "cell_type": "markdown",
      "source": [
        "A KNN model was also fit onto the training data to see if it performed better than a random forest, but unfortuantely, its performance was closer to the logistic regression."
      ],
      "metadata": {
        "id": "bCoR5oQvLFom"
      }
    },
    {
      "cell_type": "markdown",
      "metadata": {
        "id": "aSwsD6fZLNtN"
      },
      "source": [
        "#### 5.4) XGBoost"
      ]
    },
    {
      "cell_type": "code",
      "execution_count": null,
      "metadata": {
        "id": "pf0Lmi1RLQtG",
        "colab": {
          "base_uri": "https://localhost:8080/",
          "height": 859
        },
        "outputId": "40a46064-aa3a-4bab-d92e-c953ff96b5bc"
      },
      "outputs": [
        {
          "output_type": "stream",
          "name": "stdout",
          "text": [
            "XGBoost - Cross-Validation Scores:\n",
            "Accuracy: 0.647775\n",
            "Precision: 0.6496468787941048\n",
            "Recall: 0.6425318692140316\n",
            "F1 Score: 0.6460585652159898\n",
            "\n",
            "XGBoost - Test Set Metrics:\n",
            "Accuracy: 0.6582\n",
            "Precision: 0.6596784042336657\n",
            "Recall: 0.6498897132544617\n",
            "F1 Score: 0.6547474747474749\n",
            "\n",
            "Confusion Matrix (Test Set):\n",
            "[[3341 1672]\n",
            " [1746 3241]]\n",
            "\n",
            "Area Under the ROC Curve (AUC) - Test Set: 0.7193495228027742\n"
          ]
        },
        {
          "output_type": "display_data",
          "data": {
            "text/plain": [
              "<Figure size 800x600 with 1 Axes>"
            ],
            "image/png": "[encoded data removed]"
          },
          "metadata": {}
        }
      ],
      "source": [
        "import xgboost as xgb\n",
        "from sklearn.model_selection import cross_val_score, StratifiedKFold\n",
        "from sklearn.metrics import accuracy_score, precision_score, recall_score, f1_score, confusion_matrix, auc, roc_curve\n",
        "\n",
        "# Create an XGBoost model\n",
        "xgb_model = xgb.XGBClassifier(random_state=42)\n",
        "\n",
        "# Use StratifiedKFold for cross-validation\n",
        "cv = StratifiedKFold(n_splits=5, shuffle=True, random_state=42)\n",
        "\n",
        "# Perform cross-validation and get the scores\n",
        "accuracy_scores = cross_val_score(xgb_model, X_train, y_train, cv=cv, scoring='accuracy')\n",
        "precision_scores = cross_val_score(xgb_model, X_train, y_train, cv=cv, scoring='precision')\n",
        "recall_scores = cross_val_score(xgb_model, X_train, y_train, cv=cv, scoring='recall')\n",
        "f1_scores = cross_val_score(xgb_model, X_train, y_train, cv=cv, scoring='f1')\n",
        "\n",
        "# Print the cross-validation scores\n",
        "print(\"XGBoost - Cross-Validation Scores:\")\n",
        "print(\"Accuracy:\", accuracy_scores.mean())\n",
        "print(\"Precision:\", precision_scores.mean())\n",
        "print(\"Recall:\", recall_scores.mean())\n",
        "print(\"F1 Score:\", f1_scores.mean())\n",
        "\n",
        "# Train the XGBoost model on the entire training set\n",
        "xgb_model.fit(X_train, y_train)\n",
        "\n",
        "# Make predictions on the test set\n",
        "y_pred_xgb = xgb_model.predict(X_test)\n",
        "y_pred_proba_xgb = xgb_model.predict_proba(X_test)[:, 1]\n",
        "\n",
        "# Calculate and print metric scores for the test set\n",
        "accuracy_test = accuracy_score(y_test, y_pred_xgb)\n",
        "precision_test = precision_score(y_test, y_pred_xgb)\n",
        "recall_test = recall_score(y_test, y_pred_xgb)\n",
        "f1_test = f1_score(y_test, y_pred_xgb)\n",
        "\n",
        "# Print metric scores for the test set\n",
        "print(\"\\nXGBoost - Test Set Metrics:\")\n",
        "print(\"Accuracy:\", accuracy_test)\n",
        "print(\"Precision:\", precision_test)\n",
        "print(\"Recall:\", recall_test)\n",
        "print(\"F1 Score:\", f1_test)\n",
        "\n",
        "# Confusion Matrix for the test set\n",
        "conf_matrix_xgb = confusion_matrix(y_test, y_pred_xgb)\n",
        "print(\"\\nConfusion Matrix (Test Set):\")\n",
        "print(conf_matrix_xgb)\n",
        "\n",
        "# Compute ROC curve for the test set\n",
        "fpr, tpr, thresholds = roc_curve(y_test, y_pred_proba_xgb)\n",
        "\n",
        "# Compute AUC for the test set\n",
        "auc_value = auc(fpr, tpr)\n",
        "\n",
        "# Print AUC for the test set\n",
        "print(\"\\nArea Under the ROC Curve (AUC) - Test Set:\", auc_value)\n",
        "\n",
        "# Plot ROC curve for the test set\n",
        "plt.figure(figsize=(8, 6))\n",
        "plt.plot(fpr, tpr, label=f'AUC = {auc_value:.2f}')\n",
        "plt.plot([0, 1], [0, 1], 'k--', label='Random')\n",
        "plt.xlabel('False Positive Rate (1 - Specificity)')\n",
        "plt.ylabel('True Positive Rate (Sensitivity)')\n",
        "plt.title('Receiver Operating Characteristic (ROC) Curve - Test Set')\n",
        "plt.legend()\n",
        "plt.show()"
      ]
    },
    {
      "cell_type": "markdown",
      "source": [
        "Similar to a random forest, an XGBoost model was tried on the data. However, it seems that creating decision trees in parallel (RF) is better than in sequence (XG)."
      ],
      "metadata": {
        "id": "kxi961wbLteu"
      }
    },
    {
      "cell_type": "markdown",
      "metadata": {
        "id": "bYBN0euFNBdq"
      },
      "source": [
        "#### 5.5) Gradient Boosting Classifier"
      ]
    },
    {
      "cell_type": "code",
      "execution_count": null,
      "metadata": {
        "id": "gVehmmajNDhG",
        "colab": {
          "base_uri": "https://localhost:8080/",
          "height": 790
        },
        "outputId": "cd4cc8df-2f55-40d7-9332-46d7b707cbe6"
      },
      "outputs": [
        {
          "output_type": "stream",
          "name": "stdout",
          "text": [
            "Cross-Validation Scores:\n",
            "Accuracy: 0.633325\n",
            "\n",
            "Test Set Metrics:\n",
            "Accuracy: 0.6414\n",
            "Precision: 0.6453621083212284\n",
            "Recall: 0.62362141568077\n",
            "F1 Score: 0.6343055272282276\n",
            "Area Under ROC Curve: 0.6975098551666209\n"
          ]
        },
        {
          "output_type": "display_data",
          "data": {
            "text/plain": [
              "<Figure size 800x600 with 1 Axes>"
            ],
            "image/png": "[encoded data removed]"
          },
          "metadata": {}
        },
        {
          "output_type": "stream",
          "name": "stdout",
          "text": [
            "\n",
            "Confusion Matrix:\n",
            "[[3304 1709]\n",
            " [1877 3110]]\n"
          ]
        }
      ],
      "source": [
        "import numpy as np\n",
        "import matplotlib.pyplot as plt\n",
        "from sklearn.ensemble import GradientBoostingClassifier\n",
        "from sklearn.model_selection import cross_val_score, StratifiedKFold, train_test_split\n",
        "from sklearn.metrics import accuracy_score, precision_score, recall_score, f1_score, roc_curve, roc_auc_score, confusion_matrix\n",
        "\n",
        "# Assuming you have X_train, y_train, X_test, y_test\n",
        "\n",
        "# Initialize the GradientBoostingClassifier with default parameters\n",
        "gb_classifier = GradientBoostingClassifier()\n",
        "\n",
        "# Initialize the StratifiedKFold for cross-validation\n",
        "cv = StratifiedKFold(n_splits=5, shuffle=True, random_state=42)\n",
        "\n",
        "# Cross-validation scores\n",
        "cv_scores = cross_val_score(gb_classifier, X_train, y_train, cv=cv, scoring='accuracy')\n",
        "print(\"Cross-Validation Scores:\")\n",
        "print(\"Accuracy:\", np.mean(cv_scores))\n",
        "\n",
        "# Fit the model on the training set\n",
        "gb_classifier.fit(X_train, y_train)\n",
        "\n",
        "# Evaluate on the test set\n",
        "y_pred_gb = gb_classifier.predict(X_test)\n",
        "\n",
        "# Calculate metrics\n",
        "accuracy_gb = accuracy_score(y_test, y_pred_gb)\n",
        "precision_gb = precision_score(y_test, y_pred_gb)\n",
        "recall_gb = recall_score(y_test, y_pred_gb)\n",
        "f1_gb = f1_score(y_test, y_pred_gb)\n",
        "roc_auc_gb = roc_auc_score(y_test, gb_classifier.predict_proba(X_test)[:, 1])\n",
        "\n",
        "# Print metrics\n",
        "print(\"\\nTest Set Metrics:\")\n",
        "print(\"Accuracy:\", accuracy_gb)\n",
        "print(\"Precision:\", precision_gb)\n",
        "print(\"Recall:\", recall_gb)\n",
        "print(\"F1 Score:\", f1_gb)\n",
        "print(\"Area Under ROC Curve:\", roc_auc_gb)\n",
        "\n",
        "# Plot ROC curve\n",
        "fpr, tpr, thresholds = roc_curve(y_test, gb_classifier.predict_proba(X_test)[:, 1])\n",
        "plt.figure(figsize=(8, 6))\n",
        "plt.plot(fpr, tpr, label=f'AUC = {roc_auc_gb:.2f}')\n",
        "plt.plot([0, 1], [0, 1], 'k--', label='Random')\n",
        "plt.xlabel('False Positive Rate (1 - Specificity)')\n",
        "plt.ylabel('True Positive Rate (Sensitivity)')\n",
        "plt.title('Receiver Operating Characteristic (ROC) Curve')\n",
        "plt.legend()\n",
        "plt.show()\n",
        "\n",
        "# Confusion Matrix\n",
        "conf_matrix_gb = confusion_matrix(y_test, y_pred_gb)\n",
        "print(\"\\nConfusion Matrix:\")\n",
        "print(conf_matrix_gb)"
      ]
    },
    {
      "cell_type": "markdown",
      "source": [
        "A gradient boosting model was also fit, but the results were subpar."
      ],
      "metadata": {
        "id": "WQyCk5QsMN0G"
      }
    },
    {
      "cell_type": "markdown",
      "source": [
        "#### With the highest ROC curve score and F1 score, we will utilize random forest model in predicting on our test data."
      ],
      "metadata": {
        "id": "yuDCOYAsFECQ"
      }
    },
    {
      "cell_type": "markdown",
      "source": [
        "### 6) Predict on Test Data with Random Forest"
      ],
      "metadata": {
        "id": "AkOBrx9fFSn_"
      }
    },
    {
      "cell_type": "markdown",
      "source": [
        "#### 6.1) Create & Train Random Forest Model"
      ],
      "metadata": {
        "id": "S6811aVlli58"
      }
    },
    {
      "cell_type": "code",
      "source": [
        "#Create our Random Forest\n",
        "\n",
        "rf_model_test = RandomForestClassifier( #use selected hyperparameters\n",
        "    random_state=42,\n",
        "    max_depth=20,\n",
        "    min_samples_leaf=1,\n",
        "    min_samples_split=2,\n",
        "    n_estimators=100\n",
        ")\n",
        "\n",
        "# Train the model on the training set\n",
        "rf_model_test.fit(X, y)"
      ],
      "metadata": {
        "colab": {
          "base_uri": "https://localhost:8080/",
          "height": 75
        },
        "id": "e8pEWwskYUQP",
        "outputId": "e5b58b28-64be-4424-9f3b-071ecb76f9c4"
      },
      "execution_count": null,
      "outputs": [
        {
          "output_type": "execute_result",
          "data": {
            "text/plain": [
              "RandomForestClassifier(max_depth=20, random_state=42)"
            ],
            "text/html": [
              "<style>#sk-container-id-2 {color: black;background-color: white;}#sk-container-id-2 pre{padding: 0;}#sk-container-id-2 div.sk-toggleable {background-color: white;}#sk-container-id-2 label.sk-toggleable__label {cursor: pointer;display: block;width: 100%;margin-bottom: 0;padding: 0.3em;box-sizing: border-box;text-align: center;}#sk-container-id-2 label.sk-toggleable__label-arrow:before {content: \"▸\";float: left;margin-right: 0.25em;color: #696969;}#sk-container-id-2 label.sk-toggleable__label-arrow:hover:before {color: black;}#sk-container-id-2 div.sk-estimator:hover label.sk-toggleable__label-arrow:before {color: black;}#sk-container-id-2 div.sk-toggleable__content {max-height: 0;max-width: 0;overflow: hidden;text-align: left;background-color: #f0f8ff;}#sk-container-id-2 div.sk-toggleable__content pre {margin: 0.2em;color: black;border-radius: 0.25em;background-color: #f0f8ff;}#sk-container-id-2 input.sk-toggleable__control:checked~div.sk-toggleable__content {max-height: 200px;max-width: 100%;overflow: auto;}#sk-container-id-2 input.sk-toggleable__control:checked~label.sk-toggleable__label-arrow:before {content: \"▾\";}#sk-container-id-2 div.sk-estimator input.sk-toggleable__control:checked~label.sk-toggleable__label {background-color: #d4ebff;}#sk-container-id-2 div.sk-label input.sk-toggleable__control:checked~label.sk-toggleable__label {background-color: #d4ebff;}#sk-container-id-2 input.sk-hidden--visually {border: 0;clip: rect(1px 1px 1px 1px);clip: rect(1px, 1px, 1px, 1px);height: 1px;margin: -1px;overflow: hidden;padding: 0;position: absolute;width: 1px;}#sk-container-id-2 div.sk-estimator {font-family: monospace;background-color: #f0f8ff;border: 1px dotted black;border-radius: 0.25em;box-sizing: border-box;margin-bottom: 0.5em;}#sk-container-id-2 div.sk-estimator:hover {background-color: #d4ebff;}#sk-container-id-2 div.sk-parallel-item::after {content: \"\";width: 100%;border-bottom: 1px solid gray;flex-grow: 1;}#sk-container-id-2 div.sk-label:hover label.sk-toggleable__label {background-color: #d4ebff;}#sk-container-id-2 div.sk-serial::before {content: \"\";position: absolute;border-left: 1px solid gray;box-sizing: border-box;top: 0;bottom: 0;left: 50%;z-index: 0;}#sk-container-id-2 div.sk-serial {display: flex;flex-direction: column;align-items: center;background-color: white;padding-right: 0.2em;padding-left: 0.2em;position: relative;}#sk-container-id-2 div.sk-item {position: relative;z-index: 1;}#sk-container-id-2 div.sk-parallel {display: flex;align-items: stretch;justify-content: center;background-color: white;position: relative;}#sk-container-id-2 div.sk-item::before, #sk-container-id-2 div.sk-parallel-item::before {content: \"\";position: absolute;border-left: 1px solid gray;box-sizing: border-box;top: 0;bottom: 0;left: 50%;z-index: -1;}#sk-container-id-2 div.sk-parallel-item {display: flex;flex-direction: column;z-index: 1;position: relative;background-color: white;}#sk-container-id-2 div.sk-parallel-item:first-child::after {align-self: flex-end;width: 50%;}#sk-container-id-2 div.sk-parallel-item:last-child::after {align-self: flex-start;width: 50%;}#sk-container-id-2 div.sk-parallel-item:only-child::after {width: 0;}#sk-container-id-2 div.sk-dashed-wrapped {border: 1px dashed gray;margin: 0 0.4em 0.5em 0.4em;box-sizing: border-box;padding-bottom: 0.4em;background-color: white;}#sk-container-id-2 div.sk-label label {font-family: monospace;font-weight: bold;display: inline-block;line-height: 1.2em;}#sk-container-id-2 div.sk-label-container {text-align: center;}#sk-container-id-2 div.sk-container {/* jupyter's `normalize.less` sets `[hidden] { display: none; }` but bootstrap.min.css set `[hidden] { display: none !important; }` so we also need the `!important` here to be able to override the default hidden behavior on the sphinx rendered scikit-learn.org. See: https://github.com/scikit-learn/scikit-learn/issues/21755 */display: inline-block !important;position: relative;}#sk-container-id-2 div.sk-text-repr-fallback {display: none;}</style><div id=\"sk-container-id-2\" class=\"sk-top-container\"><div class=\"sk-text-repr-fallback\"><pre>RandomForestClassifier(max_depth=20, random_state=42)</pre><b>In a Jupyter environment, please rerun this cell to show the HTML representation or trust the notebook. <br />On GitHub, the HTML representation is unable to render, please try loading this page with nbviewer.org.</b></div><div class=\"sk-container\" hidden><div class=\"sk-item\"><div class=\"sk-estimator sk-toggleable\"><input class=\"sk-toggleable__control sk-hidden--visually\" id=\"sk-estimator-id-2\" type=\"checkbox\" checked><label for=\"sk-estimator-id-2\" class=\"sk-toggleable__label sk-toggleable__label-arrow\">RandomForestClassifier</label><div class=\"sk-toggleable__content\"><pre>RandomForestClassifier(max_depth=20, random_state=42)</pre></div></div></div></div></div>"
            ]
          },
          "metadata": {},
          "execution_count": 122
        }
      ]
    },
    {
      "cell_type": "markdown",
      "source": [
        "#### 6.1) Create Test Data"
      ],
      "metadata": {
        "id": "-m9JRH_RGxrC"
      }
    },
    {
      "cell_type": "markdown",
      "source": [
        "##### 6.1.1) Get unique subset of data not present in training data to avoid leakage"
      ],
      "metadata": {
        "id": "awatkxyUlz3e"
      }
    },
    {
      "cell_type": "markdown",
      "source": [
        "Select a stratified subset from the test data in a similar manner to how it was done with the train data."
      ],
      "metadata": {
        "id": "0MP2n2TNMWMZ"
      }
    },
    {
      "cell_type": "code",
      "source": [
        "from pyspark.sql import functions as F\n",
        "\n",
        "# Convert the target column to integers (1 for True, 0 for False)\n",
        "train_data_spark = train_data_spark.withColumn(\"HasDetections\", train_data_spark[\"HasDetections\"].cast(\"int\"))\n",
        "\n",
        "# Separate the positive and negative examples\n",
        "positive_examples = train_data_spark.filter(\"HasDetections = 1\")\n",
        "negative_examples = train_data_spark.filter(\"HasDetections = 0\")\n",
        "\n",
        "# Calculate the number of examples needed for each class\n",
        "num_examples_per_class = 100000 // 2\n",
        "\n",
        "# Sample the positive and negative examples separately to get a balanced subset\n",
        "balanced_subset = (\n",
        "    positive_examples.sample(False, num_examples_per_class / positive_examples.count(), seed=42)\n",
        "    .union(\n",
        "        negative_examples.sample(False, num_examples_per_class / negative_examples.count(), seed=42)\n",
        "    )\n",
        ")\n",
        "\n",
        "# Ensure that each row's \"MachineIdentifier\" is not present in train_data Pandas DataFrame\n",
        "existing_machine_identifiers = set(train_machine_ids)\n",
        "test_data = balanced_subset.filter(~F.col(\"MachineIdentifier\").isin(existing_machine_identifiers))\n",
        "\n",
        "# Show the resulting balanced subset\n",
        "test_data.show()\n"
      ],
      "metadata": {
        "colab": {
          "base_uri": "https://localhost:8080/"
        },
        "id": "it1-_mRXLLgh",
        "outputId": "205c356c-3206-4983-f150-ecd063c69dbc"
      },
      "execution_count": null,
      "outputs": [
        {
          "output_type": "stream",
          "name": "stdout",
          "text": [
            "+--------------------+------------+-------------+----------------+------------+------+----------------+----------------+-------------------------+-------------------------+-------------------+-----------------+------+-----------------+--------------+----------------------+-----------------+---------------------------+---------+---------+--------+-------+-------+--------------------+--------------------+----------+-----------+---------------+-------+-----+---------------+------------+--------+------------+---------------------+-------------------+------------------------+-------------------------+-------------------------+--------------------------------------+-------------------------------+---------------------+-------------------------------+--------------------------+--------------------------------+--------------------------+-----------------------+----------------------+-------------------------------------------------+-------------------------------------------------+-----------------------------------------------+----------------------------+--------------------------+-------------------------------------+----------------+---------------------+---------------+--------------------+----------------------+------------------+-------------------+------------------------+----------------------------------+---------------------------+--------------------------------+--------------------------------+-----------------------+------------------------+--------------------------+------------------------+-----------------+---------------------+-------------------------------------+--------------------------------+--------------------------+-----------------------+----------------------+---------------------+-------------------+---------------------------------------+------------+---------------------+-------------+\n",
            "|   MachineIdentifier| ProductName|EngineVersion|      AppVersion|AvSigVersion|IsBeta|RtpStateBitfield|IsSxsPassiveMode|DefaultBrowsersIdentifier|AVProductStatesIdentifier|AVProductsInstalled|AVProductsEnabled|HasTpm|CountryIdentifier|CityIdentifier|OrganizationIdentifier|GeoNameIdentifier|LocaleEnglishNameIdentifier| Platform|Processor|   OsVer|OsBuild|OsSuite|OsPlatformSubRelease|          OsBuildLab|SkuEdition|IsProtected|AutoSampleOptIn|PuaMode|SMode|IeVerIdentifier| SmartScreen|Firewall|UacLuaenable|Census_MDC2FormFactor|Census_DeviceFamily|Census_OEMNameIdentifier|Census_OEMModelIdentifier|Census_ProcessorCoreCount|Census_ProcessorManufacturerIdentifier|Census_ProcessorModelIdentifier|Census_ProcessorClass|Census_PrimaryDiskTotalCapacity|Census_PrimaryDiskTypeName|Census_SystemVolumeTotalCapacity|Census_HasOpticalDiskDrive|Census_TotalPhysicalRAM|Census_ChassisTypeName|Census_InternalPrimaryDiagonalDisplaySizeInInches|Census_InternalPrimaryDisplayResolutionHorizontal|Census_InternalPrimaryDisplayResolutionVertical|Census_PowerPlatformRoleName|Census_InternalBatteryType|Census_InternalBatteryNumberOfCharges|Census_OSVersion|Census_OSArchitecture|Census_OSBranch|Census_OSBuildNumber|Census_OSBuildRevision|  Census_OSEdition|   Census_OSSkuName|Census_OSInstallTypeName|Census_OSInstallLanguageIdentifier|Census_OSUILocaleIdentifier|Census_OSWUAutoUpdateOptionsName|Census_IsPortableOperatingSystem|Census_GenuineStateName|Census_ActivationChannel|Census_IsFlightingInternal|Census_IsFlightsDisabled|Census_FlightRing|Census_ThresholdOptIn|Census_FirmwareManufacturerIdentifier|Census_FirmwareVersionIdentifier|Census_IsSecureBootEnabled|Census_IsWIMBootEnabled|Census_IsVirtualDevice|Census_IsTouchEnabled|Census_IsPenCapable|Census_IsAlwaysOnAlwaysConnectedCapable|Wdft_IsGamer|Wdft_RegionIdentifier|HasDetections|\n",
            "+--------------------+------------+-------------+----------------+------------+------+----------------+----------------+-------------------------+-------------------------+-------------------+-----------------+------+-----------------+--------------+----------------------+-----------------+---------------------------+---------+---------+--------+-------+-------+--------------------+--------------------+----------+-----------+---------------+-------+-----+---------------+------------+--------+------------+---------------------+-------------------+------------------------+-------------------------+-------------------------+--------------------------------------+-------------------------------+---------------------+-------------------------------+--------------------------+--------------------------------+--------------------------+-----------------------+----------------------+-------------------------------------------------+-------------------------------------------------+-----------------------------------------------+----------------------------+--------------------------+-------------------------------------+----------------+---------------------+---------------+--------------------+----------------------+------------------+-------------------+------------------------+----------------------------------+---------------------------+--------------------------------+--------------------------------+-----------------------+------------------------+--------------------------+------------------------+-----------------+---------------------+-------------------------------------+--------------------------------+--------------------------+-----------------------+----------------------+---------------------+-------------------+---------------------------------------+------------+---------------------+-------------+\n",
            "|00057d8793b8114a9...|win8defender|  1.1.15100.1| 4.18.1807.18075|1.273.1311.0|     0|               7|               0|                     NULL|                    53447|                  1|                1|     1|              195|         71620|                    18|              258|                        246|windows10|      x64|10.0.0.0|  17134|    768|                 rs4|17134.1.amd64fre....|      Home|          1|              0|   NULL|    0|            137|RequireAdmin|       1|           1|             Notebook|    Windows.Desktop|                    2102|                   242491|                        4|                                     5|                           2660|                 NULL|                       953869.0|                       HDD|                          101274|                         0|                   4096|              Notebook|                                             13.9|                                             1366|                                            768|                      Mobile|                      NULL|                                  0.0|  10.0.17134.191|                amd64|    rs4_release|               17134|                   191|              Core|               CORE|              UUPUpgrade|                                 7|                         30|                        FullAuto|                               0|             IS_GENUINE|              OEM:NONSLP|                      NULL|                       0|           Retail|                 NULL|                                  554|                           32998|                         0|                   NULL|                     0|                    0|                  0|                                      0|           0|                    1|            1|\n",
            "|000a69ddafa6e0e47...|win8defender|  1.1.15200.1| 4.18.1807.18075| 1.275.249.0|     0|               7|               0|                     NULL|                    47238|                  2|                1|     1|               15|          9402|                  NULL|              211|                        182|windows10|      x64|10.0.0.0|  17134|    768|                 rs4|17134.1.amd64fre....|      Home|          1|              0|   NULL|    0|            137|RequireAdmin|       1|           1|          Convertible|    Windows.Desktop|                    2668|                   171392|                        4|                                     5|                           3063|                 NULL|                       953869.0|                       HDD|                          912276|                         0|                   8192|           Convertible|                                             13.9|                                             1920|                                           1080|                      Mobile|                      NULL|                                  0.0|  10.0.17134.228|                amd64|    rs4_release|               17134|                   228|CoreSingleLanguage|CORE_SINGLELANGUAGE|              UUPUpgrade|                                29|                        125|                        FullAuto|                               0|             IS_GENUINE|                  OEM:DM|                      NULL|                       0|           Retail|                 NULL|                                  628|                           10492|                         0|                   NULL|                     0|                    1|                  0|                                      0|           0|                    3|            1|\n",
            "|0010778798c29b63b...|win8defender|  1.1.15200.1| 4.18.1807.18075|1.275.1327.0|     0|               7|               0|                     NULL|                    53447|                  1|                1|     1|              118|         72694|                  NULL|              150|                         75|windows10|      x64|10.0.0.0|  17134|    768|                 rs4|17134.1.amd64fre....|      Home|          1|              0|   NULL|    0|            137|        NULL|       1|           1|             Notebook|    Windows.Desktop|                     585|                   190000|                        8|                                     5|                           2933|                 NULL|                       953869.0|                       HDD|                          935631|                         0|                   8192|              Notebook|                                             17.3|                                             1920|                                           1080|                      Mobile|                      NULL|                                  0.0|  10.0.17134.285|                amd64|    rs4_release|               17134|                   285|              Core|               CORE|                IBSClean|                                 8|                         31|                        FullAuto|                               0|             IS_GENUINE|                  Retail|                      NULL|                       0|           Retail|                 NULL|                                  556|                           63396|                         1|                   NULL|                     0|                    0|                  0|                                      0|           1|                    3|            1|\n",
            "|0010f366d1c9e4192...|win8defender|  1.1.15200.1| 4.18.1807.18075|1.275.1001.0|     0|               7|               0|                     NULL|                    53447|                  1|                1|     1|              100|           167|                  NULL|              276|                         74|windows10|      x64|10.0.0.0|  17134|    256|                 rs4|17134.1.amd64fre....|       Pro|          1|              0|   NULL|    0|            137|RequireAdmin|       1|           1|             Notebook|    Windows.Desktop|                    2102|                   241911|                        2|                                     1|                            227|                 NULL|                       953869.0|                       HDD|                          199434|                         0|                   4096|              Notebook|                                             15.5|                                             1366|                                            768|                      Mobile|                      NULL|                                  0.0|  10.0.17134.228|                amd64|    rs4_release|               17134|                   228|      Professional|       PROFESSIONAL|                  Update|                                 7|                         30|                        FullAuto|                               0|        INVALID_LICENSE|             Volume:GVLK|                      NULL|                       0|           Retail|                 NULL|                                  554|                           33111|                         0|                   NULL|                     0|                    0|                  0|                                      0|           1|                   11|            1|\n",
            "|0012f36b354dae9fb...|win8defender|  1.1.15200.1|      4.10.209.0| 1.275.543.0|     0|               7|               0|                     NULL|                    53447|                  1|                1|     1|               93|        157093|                    27|              277|                         75| windows8|      x64| 6.3.0.0|   9600|    256|          windows8.1|9600.19101.amd64f...|       Pro|          1|              0|   NULL|    0|            333|         Off|       1|           1|              Desktop|    Windows.Desktop|                     585|                   327838|                        4|                                     5|                           2604|                 NULL|                       476940.0|                       HDD|                          150000|                         0|                   4096|               Desktop|                                             19.4|                                             1366|                                            768|                     Desktop|                      NULL|                        4.294967295E9|  10.0.14393.321|                amd64|    rs1_release|               14393|                   321|      Professional|       PROFESSIONAL|                  Update|                                 8|                         31|                        FullAuto|                               0|             IS_GENUINE|                  Retail|                         0|                       0|           Retail|                    0|                                  142|                            2865|                         0|                      0|                     0|                    0|                  0|                                      0|           0|                    8|            1|\n",
            "|001444987d8e5a7ca...|win8defender|  1.1.15200.1| 4.18.1807.18075| 1.275.900.0|     0|               7|               0|                     NULL|                    53447|                  1|                1|     1|              107|         52183|                    27|              138|                        134|windows10|      x64|10.0.0.0|  15063|    256|                 rs2|15063.0.amd64fre....|       Pro|          1|              0|   NULL|    0|            108|        NULL|       1|           1|              Desktop|    Windows.Desktop|                    4909|                   317701|                        4|                                     5|                           2509|                 NULL|                       122104.0|                       SSD|                          121602|                         0|                   8192|               Desktop|                                             20.0|                                             1600|                                            900|                     Desktop|                      NULL|                        4.294967295E9| 10.0.15063.1266|                amd64|    rs2_release|               15063|                  1266|      Professional|       PROFESSIONAL|                IBSClean|                                20|                         83|                         UNKNOWN|                               0|             IS_GENUINE|                  Retail|                      NULL|                       0|           Retail|                 NULL|                                  142|                           42990|                         0|                   NULL|                     0|                    0|                  0|                                      0|           1|                    1|            1|\n",
            "|00146c087570cb57c...|win8defender|  1.1.15200.1| 4.18.1807.18075| 1.275.511.0|     0|               7|               0|                     NULL|                    53447|                  1|                1|     1|              153|         97734|                  NULL|              224|                         16|windows10|      x64|10.0.0.0|  17134|    768|                 rs4|17134.1.amd64fre....|      Home|          1|              0|   NULL|    0|            137|ExistsNotSet|       1|           1|             Notebook|    Windows.Desktop|                    2102|                   241876|                        4|                                     5|                           2697|                 NULL|                       953869.0|                       HDD|                          952413|                         0|                   8192|              Notebook|                                             15.5|                                             1366|                                            768|                      Mobile|                      NULL|                                  0.0|  10.0.17134.228|                amd64|    rs4_release|               17134|                   228|              Core|               CORE|              UUPUpgrade|                                 1|                          5|                        FullAuto|                               0|             IS_GENUINE|                  OEM:DM|                      NULL|                       0|           Retail|                 NULL|                                  554|                           33000|                         0|                   NULL|                     0|                    0|                  0|                                      0|           1|                   11|            1|\n",
            "|001528f1239441439...|win8defender|  1.1.15200.1| 4.18.1807.18075| 1.275.112.0|     0|               7|               0|                     NULL|                    53447|                  1|                1|     1|               11|        155216|                    27|               16|                        102|windows10|      x64|10.0.0.0|  17134|    256|                 rs4|17134.1.amd64fre....|       Pro|          1|              0|   NULL|    0|            137|ExistsNotSet|       1|           1|             Notebook|    Windows.Desktop|                    1443|                   260868|                        4|                                     5|                           2459|                 NULL|                       238475.0|                   UNKNOWN|                          235593|                         1|                   4096|                Laptop|                                             15.5|                                             1600|                                            900|                      Mobile|                      NULL|                                  0.0|  10.0.17134.165|                amd64|    rs4_release|               17134|                   165|      Professional|       PROFESSIONAL|              UUPUpgrade|                                 5|                         26|                         UNKNOWN|                               0|             IS_GENUINE|                  Retail|                      NULL|                       0|           Retail|                 NULL|                                  355|                           19982|                         0|                   NULL|                     0|                    0|                  0|                                      0|           0|                   15|            1|\n",
            "|001739b58eee307f7...|win8defender|  1.1.15200.1|   4.12.16299.15| 1.275.940.0|     0|               7|               0|                     2388|                    53447|                  1|                1|     1|              171|         70492|                  NULL|              211|                        182|windows10|      x64|10.0.0.0|  16299|    768|                 rs3|16299.431.amd64fr...|      Home|          1|              0|   NULL|    0|            117|        NULL|       1|           1|              PCOther|    Windows.Desktop|                    2102|                   245308|                     NULL|                                  NULL|                           NULL|                 NULL|                           NULL|                   UNKNOWN|                            NULL|                         0|                   NULL|              AllinOne|                                             23.8|                                             1920|                                           1080|                     Desktop|                      NULL|                                 NULL|   10.0.16299.64|                amd64|    rs3_release|               16299|                    64|CoreSingleLanguage|CORE_SINGLELANGUAGE|                   Other|                                29|                        125|                         UNKNOWN|                               0|             IS_GENUINE|                  OEM:DM|                      NULL|                    NULL|           Retail|                 NULL|                                 NULL|                            NULL|                         1|                   NULL|                     0|                    0|                  0|                                   NULL|        NULL|                 NULL|            1|\n",
            "|00181160c1879dd6c...|win8defender|  1.1.15100.1| 4.18.1807.18075| 1.273.894.0|     0|               7|               0|                     NULL|                    51954|                  2|                1|     1|               44|         16668|                    27|               57|                        218|windows10|      x64|10.0.0.0|  17134|    768|                 rs4|17134.1.amd64fre....|      Home|          1|              0|   NULL|    0|            137|RequireAdmin|       1|           1|             Notebook|    Windows.Desktop|                    2102|                   242491|                        2|                                     5|                           1998|                 NULL|                       476940.0|                       HDD|                          456588|                         1|                   4096|              Notebook|                                             13.9|                                             1366|                                            768|                      Mobile|                      NULL|                                  0.0|  10.0.17134.165|                amd64|    rs4_release|               17134|                   165|CoreSingleLanguage|CORE_SINGLELANGUAGE|                 Upgrade|                                10|                         35|                        FullAuto|                               0|             IS_GENUINE|                  OEM:DM|                      NULL|                       0|           Retail|                 NULL|                                  554|                           33076|                         1|                   NULL|                     0|                    0|                  0|                                      0|           1|                   10|            1|\n",
            "|00182133f45898d43...|win8defender|  1.1.15200.1| 4.18.1807.18075|1.275.1380.0|     0|               7|               0|                     NULL|                    53447|                  1|                1|     1|              149|         21338|                    27|              181|                         56|windows10|      x64|10.0.0.0|  15063|    256|                 rs2|15063.0.amd64fre....|       Pro|          1|              0|   NULL|    0|            108|ExistsNotSet|       1|           1|             Notebook|    Windows.Desktop|                    4142|                   120220|                        4|                                     5|                           2297|                 NULL|                       476940.0|                       HDD|                          449815|                         0|                   4096|                Laptop|                                             15.5|                                             1366|                                            768|                      Mobile|                      lion|                                 83.0| 10.0.15063.1088|                amd64|    rs2_release|               15063|                  1088|      Professional|       PROFESSIONAL|                 Upgrade|                                24|                        109|                          Notify|                               0|             IS_GENUINE|                  Retail|                      NULL|                       0|           Retail|                    0|                                  807|                           52372|                         1|                      0|                     0|                    0|                  0|                                      0|           0|                   15|            1|\n",
            "|00189333e0d3492f2...|win8defender|  1.1.15200.1|   4.9.10586.494|  1.275.59.0|     0|               7|               0|                     NULL|                    53447|                  1|                1|     1|              169|         20691|                    27|              209|                        179|windows10|      x64|10.0.0.0|  10586|    256|                 th2|10586.494.amd64fr...|       Pro|          1|              0|   NULL|    0|             81|RequireAdmin|       1|           1|             Notebook|    Windows.Desktop|                    2102|                   241927|                        2|                                     5|                           1998|                 NULL|                       476940.0|                       HDD|                          460554|                         0|                   4096|              Notebook|                                             15.5|                                             1366|                                            768|                      Mobile|                      NULL|                                 NULL|  10.0.10586.494|                amd64|    th2_release|               10586|                   494|      Professional|       PROFESSIONAL|                IBSClean|                                 8|                         31|                         UNKNOWN|                               0|        INVALID_LICENSE|                  Retail|                      NULL|                       0|           Retail|                 NULL|                                  554|                           33133|                         0|                   NULL|                     0|                    0|                  0|                                      0|           0|                    3|            1|\n",
            "|001a082d9b6106e7c...|win8defender|  1.1.15100.1| 4.18.1807.18075|1.273.1267.0|     0|               7|               0|                     NULL|                    53447|                  1|                1|     1|               18|         37376|                  NULL|              277|                         75|windows10|      x86|10.0.0.0|  16299|    256|                 rs3|16299.15.x86fre.r...|       Pro|          1|              0|   NULL|    0|            117|ExistsNotSet|       1|           1|              Desktop|    Windows.Desktop|                    4589|                   313586|                        2|                                     5|                           3470|                 NULL|                       953869.0|                       HDD|                          104500|                         0|                   4096|               Desktop|                                             18.5|                                             1366|                                            768|                     Desktop|                      NULL|                        4.294967295E9|  10.0.16299.431|                  x86|    rs3_release|               16299|                   431|      Professional|       PROFESSIONAL|              UUPUpgrade|                                 8|                         31|                          Notify|                               0|        INVALID_LICENSE|                  Retail|                      NULL|                       0|           Retail|                    0|                                  142|                            9494|                         0|                      0|                     0|                    0|                  0|                                      0|           0|                    1|            1|\n",
            "|001b94a8cf477ef2e...|win8defender|  1.1.15100.1| 4.18.1807.18075|1.273.1498.0|     0|               7|               0|                     NULL|                    62773|                  1|                1|     1|               41|        118532|                    27|               52|                        217|windows10|      x64|10.0.0.0|  17134|    256|                 rs4|17134.1.amd64fre....|       Pro|          0|              0|   NULL|    0|            137|ExistsNotSet|       1|           1|              Desktop|    Windows.Desktop|                    2668|                   131773|                        4|                                     5|                           2305|                 NULL|                       476940.0|                       HDD|                          459572|                         0|                   4096|               Desktop|                                             20.0|                                             1600|                                            900|                     Desktop|                      NULL|                        4.294967295E9|  10.0.17134.228|                amd64|    rs4_release|               17134|                   228|      Professional|       PROFESSIONAL|                 Refresh|                                 9|                         34|                        FullAuto|                               0|             IS_GENUINE|                  Retail|                      NULL|                       0|           Retail|                 NULL|                                  628|                           35138|                         0|                   NULL|                     0|                    0|                  0|                                      0|           0|                   10|            1|\n",
            "|001e118bc96433e3e...|win8defender|  1.1.15200.1|    4.13.17134.1|1.273.1523.0|     0|               7|               0|                     NULL|                    53447|                  1|                1|     1|               57|         64569|                  NULL|              240|                        233|windows10|      x64|10.0.0.0|  17134|    768|                 rs4|17134.1.amd64fre....|      Home|          1|              0|   NULL|    0|            137|        NULL|       1|           1|             AllInOne|    Windows.Desktop|                    2102|                    34259|                        4|                                     1|                            142|                 NULL|                       953869.0|                       HDD|                          932399|                         0|                   4096|              AllinOne|                                             19.4|                                             1600|                                            900|                     Desktop|                      NULL|                        4.294967295E9|    10.0.17134.1|                amd64|    rs4_release|               17134|                     1|CoreSingleLanguage|CORE_SINGLELANGUAGE|                IBSClean|                                 9|                         34|                         UNKNOWN|                               0|                OFFLINE|                  OEM:DM|                      NULL|                       0|          Unknown|                 NULL|                                   93|                           19803|                         1|                   NULL|                     0|                    0|                  0|                                      0|           0|                   10|            1|\n",
            "|001e6a634a2186875...|win8defender|  1.1.15100.1| 4.18.1807.18075|1.273.1112.0|     0|               7|               0|                     NULL|                    62773|                  1|                1|     1|               89|         66953|                    27|              120|                        262|windows10|      x64|10.0.0.0|  15063|    768|                 rs2|15063.0.amd64fre....|      Home|          0|              0|   NULL|    0|            105|        NULL|       1|           1|             Notebook|    Windows.Desktop|                    2102|                   241911|                        4|                                     1|                             91|                 NULL|                       953869.0|                       HDD|                          522852|                         0|                   8192|              Notebook|                                             15.5|                                             1366|                                            768|                      Mobile|                      NULL|                                  0.0|  10.0.15063.483|                amd64|    rs2_release|               15063|                   483|              Core|               CORE|                   Other|                                 8|                         31|                          Notify|                               0|             IS_GENUINE|                  OEM:DM|                      NULL|                       0|           Retail|                 NULL|                                  554|                           33060|                         1|                   NULL|                     0|                    1|                  0|                                      0|           0|                    1|            1|\n",
            "|001f1753e66ddd32f...|win8defender|  1.1.15200.1| 4.18.1807.18075|1.275.1025.0|     0|               7|               0|                     NULL|                    53447|                  1|                1|     1|              203|        143726|                    48|              255|                         46|windows10|      x64|10.0.0.0|  14393|    768|                 rs1|14393.2189.amd64f...|      Home|          1|              0|   NULL|    0|             98|RequireAdmin|       1|           1|              Desktop|    Windows.Desktop|                    3035|                   263600|                        4|                                     5|                           2604|                 NULL|                       122104.0|                       SSD|                          121295|                         0|                  16384|               Desktop|                                             23.5|                                             1920|                                           1080|                     Desktop|                      NULL|                        4.294967295E9| 10.0.14393.2189|                amd64|    rs1_release|               14393|                  2189|              Core|               CORE|                  Update|                                39|                        160|                          Notify|                               0|             IS_GENUINE|                  Retail|                         0|                       0|           Retail|                    0|                                  142|                           65540|                         0|                      0|                     0|                    0|                  0|                                      0|           0|                    7|            1|\n",
            "|001f29b930f6910b9...|win8defender|  1.1.15100.1|4.14.17639.18041| 1.273.100.0|     0|               7|               0|                     NULL|                    60171|                  2|                1|     1|                8|         85219|                  NULL|              205|                        172|windows10|      x64|10.0.0.0|  16299|    768|                 rs3|16299.15.amd64fre...|      Home|          0|              0|   NULL|    0|            111|ExistsNotSet|       1|           1|             Notebook|    Windows.Desktop|                    2102|                   242491|                        2|                                     5|                           1998|                 NULL|                       476940.0|                       HDD|                          461144|                         0|                   4096|              Notebook|                                             15.5|                                             1366|                                            768|                      Mobile|                      lion|                                  0.0|   10.0.16299.15|                amd64|    rs3_release|               16299|                    15|CoreSingleLanguage|CORE_SINGLELANGUAGE|                 Upgrade|                                27|                        120|                         UNKNOWN|                               0|             IS_GENUINE|                  OEM:DM|                         0|                       0|           Retail|                    0|                                  554|                           33043|                         1|                      0|                     0|                    0|                  0|                                      0|           0|                   11|            1|\n",
            "|0021f113901b84629...|win8defender|  1.1.15200.1| 4.18.1807.18075| 1.275.190.0|     0|               7|               0|                     NULL|                    53447|                  1|                1|     1|               68|        140709|                    27|              276|                         74|windows10|      x64|10.0.0.0|  17134|    768|                 rs4|17134.1.amd64fre....|      Home|          1|              0|   NULL|    0|            137|        NULL|       1|           1|             Notebook|    Windows.Desktop|                    4730|                   300006|                        2|                                     5|                           1984|                 NULL|                       476940.0|                       HDD|                          465378|                         0|                   4096|              Notebook|                                             15.5|                                             1366|                                            768|                      Mobile|                      NULL|                                  0.0|  10.0.17134.228|                amd64|    rs4_release|               17134|                   228|              Core|               CORE|              UUPUpgrade|                                 7|                         30|                         UNKNOWN|                               0|             IS_GENUINE|                  Retail|                      NULL|                       0|           Retail|                 NULL|                                  897|                            7414|                         0|                   NULL|                     0|                    0|                  0|                                      0|           0|                   12|            1|\n",
            "|002222b34ebf34f8f...|win8defender|  1.1.15200.1| 4.18.1807.18075| 1.275.350.0|     0|               0|               1|                     NULL|                    13277|                  2|                1|     1|               84|         26735|                  NULL|              115|                         44|windows10|      x64|10.0.0.0|  17134|    256|                 rs4|17134.1.amd64fre....|       Pro|          1|              0|   NULL|    0|            137|        Warn|       1|           1|              Desktop|    Windows.Desktop|                    3035|                   263673|                        8|                                     5|                           3084|                 NULL|                       228936.0|                       SSD|                          227588|                         1|                  32768|               Desktop|                                             24.0|                                             1920|                                           1200|                     Desktop|                      NULL|                        4.294967295E9|  10.0.17134.228|                amd64|    rs4_release|               17134|                   228|      Professional|       PROFESSIONAL|              UUPUpgrade|                                39|                        160|                        FullAuto|                               0|             IS_GENUINE|                  Retail|                      NULL|                       0|           Retail|                 NULL|                                  142|                            7464|                         0|                   NULL|                     0|                    0|                  0|                                      0|           1|                    7|            1|\n",
            "+--------------------+------------+-------------+----------------+------------+------+----------------+----------------+-------------------------+-------------------------+-------------------+-----------------+------+-----------------+--------------+----------------------+-----------------+---------------------------+---------+---------+--------+-------+-------+--------------------+--------------------+----------+-----------+---------------+-------+-----+---------------+------------+--------+------------+---------------------+-------------------+------------------------+-------------------------+-------------------------+--------------------------------------+-------------------------------+---------------------+-------------------------------+--------------------------+--------------------------------+--------------------------+-----------------------+----------------------+-------------------------------------------------+-------------------------------------------------+-----------------------------------------------+----------------------------+--------------------------+-------------------------------------+----------------+---------------------+---------------+--------------------+----------------------+------------------+-------------------+------------------------+----------------------------------+---------------------------+--------------------------------+--------------------------------+-----------------------+------------------------+--------------------------+------------------------+-----------------+---------------------+-------------------------------------+--------------------------------+--------------------------+-----------------------+----------------------+---------------------+-------------------+---------------------------------------+------------+---------------------+-------------+\n",
            "only showing top 20 rows\n",
            "\n"
          ]
        }
      ]
    },
    {
      "cell_type": "markdown",
      "source": [
        "##### 6.1.2) Clean Test Data and Prepare it for Model Input"
      ],
      "metadata": {
        "id": "gWDie_nCmG0s"
      }
    },
    {
      "cell_type": "code",
      "source": [
        "test_data = test_data.toPandas()\n",
        "target = test_data[\"HasDetections\"]\n",
        "test_data = test_data.drop(columns=columns_with_high_null_percentage)"
      ],
      "metadata": {
        "id": "FnFMWp7vHCgW"
      },
      "execution_count": null,
      "outputs": []
    },
    {
      "cell_type": "code",
      "source": [
        "# Drop machine identifier\n",
        "identifier = test_data[\"MachineIdentifier\"]\n",
        "test_data = test_data.drop(columns = {\"MachineIdentifier\"})"
      ],
      "metadata": {
        "id": "CvjcCr3G7HbS"
      },
      "execution_count": null,
      "outputs": []
    },
    {
      "cell_type": "code",
      "source": [
        "# Get the list of original column names from selected_features\n",
        "selected_original_columns = [col[0].split(\":\")[0] for col in selected_features]\n",
        "\n",
        "# Print or use the list as needed\n",
        "selected_original_columns =  set(selected_original_columns + numeric_columns)"
      ],
      "metadata": {
        "id": "Hl_NACVnvtEh"
      },
      "execution_count": null,
      "outputs": []
    },
    {
      "cell_type": "code",
      "source": [
        "test_data = test_data[selected_original_columns]"
      ],
      "metadata": {
        "id": "O90_9skL-7mF"
      },
      "execution_count": null,
      "outputs": []
    },
    {
      "cell_type": "code",
      "source": [
        "for col in binary_columns: #fills nulls in binary columns with -1\n",
        "  if col in test_data.columns:\n",
        "    test_data[col].fillna(-1, inplace=True)\n",
        "\n",
        "for col in categorical_columns: #fills nulls in category columns\n",
        "  if col in test_data.columns:\n",
        "    test_data[col].fillna(\"No Category\", inplace=True)\n",
        "\n",
        "for col in numeric_columns: #fills nulls in numerical columns with mean\n",
        "  if col in test_data.columns:\n",
        "    test_data[col].fillna(test_data[col].mean(), inplace=True)"
      ],
      "metadata": {
        "id": "gGDXCBwzHQxz"
      },
      "execution_count": null,
      "outputs": []
    },
    {
      "cell_type": "code",
      "source": [
        "non_categorical_columns_select = [col for col in test_data if col not in categorical_columns]\n",
        "\n",
        "categorical_columns_select = [col for col in selected_original_columns if col not in non_categorical_columns_select]\n"
      ],
      "metadata": {
        "id": "yOtZCKKCB09H"
      },
      "execution_count": null,
      "outputs": []
    },
    {
      "cell_type": "code",
      "source": [
        "# One-hot encode the selected columns\n",
        "test_data_encoded = pd.get_dummies(test_data, columns=categorical_columns_select, drop_first=True)\n"
      ],
      "metadata": {
        "id": "S3GZdA3HDLOm"
      },
      "execution_count": null,
      "outputs": []
    },
    {
      "cell_type": "code",
      "source": [
        "scaler = StandardScaler()\n",
        "numerical_scaled = scaler.fit_transform(test_data[numeric_columns])\n",
        "# test_data = pd.DataFrame(numerical_scaled, columns=numeric_columns)"
      ],
      "metadata": {
        "id": "jSXHH-AhSWL1"
      },
      "execution_count": null,
      "outputs": []
    },
    {
      "cell_type": "code",
      "source": [
        "numerical_scaled = pd.DataFrame(numerical_scaled, columns=numeric_columns) #standardize numerical columns"
      ],
      "metadata": {
        "id": "WS89oUSVTEAn"
      },
      "execution_count": null,
      "outputs": []
    },
    {
      "cell_type": "code",
      "source": [
        "X_validate = pd.concat([test_data_encoded[selected_categorical], numerical_scaled], axis=1)"
      ],
      "metadata": {
        "id": "U7rNcEBWTIl0"
      },
      "execution_count": null,
      "outputs": []
    },
    {
      "cell_type": "markdown",
      "source": [
        "#### 6.2) Predict with Model and Validate Test Data"
      ],
      "metadata": {
        "id": "aetJOoovT15L"
      }
    },
    {
      "cell_type": "code",
      "source": [
        "# Make probability predictions using RandomForestClassifier on the test data\n",
        "y_pred_prob_rf = rf_model_test.predict_proba(X_validate)[:, 1]\n",
        "\n",
        "# Set a threshold to convert probabilities to binary predictions\n",
        "threshold = 0.5\n",
        "y_pred_rf = (y_pred_prob_rf > threshold).astype(int)\n",
        "\n",
        "\n",
        "# Evaluate the RandomForestClassifier model\n",
        "accuracy_rf = accuracy_score(target, y_pred_rf)\n",
        "precision_rf = precision_score(target, y_pred_rf)\n",
        "recall_rf = recall_score(target, y_pred_rf)\n",
        "f1_rf = f1_score(target, y_pred_rf)\n",
        "conf_matrix_rf = confusion_matrix(target, y_pred_rf)\n",
        "\n",
        "# Print the results for RandomForestClassifier\n",
        "print(\"\\nRandom Forest - Model Evaluation on Test Set:\")\n",
        "print(\"Accuracy:\", accuracy_rf)\n",
        "print(\"Precision:\", precision_rf)\n",
        "print(\"Recall:\", recall_rf)\n",
        "print(\"F1 Score:\", f1_rf)\n",
        "print(\"\\nRandom Forest - Confusion Matrix:\")\n",
        "print(conf_matrix_rf)\n",
        "\n",
        "# Compute ROC curve\n",
        "fpr, tpr, thresholds = roc_curve(target, y_pred_prob_rf)\n",
        "\n",
        "# Compute AUC\n",
        "auc_value = roc_auc_score(target, y_pred_prob_rf)\n",
        "\n",
        "# Print AUC\n",
        "print(\"\\nArea Under the ROC Curve (AUC):\", auc_value)\n",
        "\n",
        "# Plot ROC curve\n",
        "plt.figure(figsize=(8, 6))\n",
        "plt.plot(fpr, tpr, label=f'AUC = {auc_value:.2f}')\n",
        "plt.plot([0, 1], [0, 1], 'k--', label='Random')\n",
        "plt.xlabel('False Positive Rate (1 - Specificity)')\n",
        "plt.ylabel('True Positive Rate (Sensitivity)')\n",
        "plt.title('Receiver Operating Characteristic (ROC) Curve')\n",
        "plt.legend()\n",
        "plt.show()"
      ],
      "metadata": {
        "colab": {
          "base_uri": "https://localhost:8080/",
          "height": 772
        },
        "id": "hhn3ybgbT5q6",
        "outputId": "d4812df6-6155-4456-dceb-4fdaf46a059d"
      },
      "execution_count": null,
      "outputs": [
        {
          "output_type": "stream",
          "name": "stdout",
          "text": [
            "\n",
            "Random Forest - Model Evaluation on Test Set:\n",
            "Accuracy: 0.6256674313534957\n",
            "Precision: 0.6320291595558646\n",
            "Recall: 0.6011623246492986\n",
            "F1 Score: 0.6162094430122327\n",
            "\n",
            "Random Forest - Confusion Matrix:\n",
            "[[32458 17465]\n",
            " [19902 29998]]\n",
            "\n",
            "Area Under the ROC Curve (AUC): 0.6774546902430143\n"
          ]
        },
        {
          "output_type": "display_data",
          "data": {
            "text/plain": [
              "<Figure size 800x600 with 1 Axes>"
            ],
            "image/png": "[encoded data removed]"
          },
          "metadata": {}
        }
      ]
    },
    {
      "cell_type": "markdown",
      "source": [
        "Our random forest model performs well on the test dataset. In fact, if this model performed similarily on the test data provided by the Microsoft Competition, our model would have place 2nd overall based on the Area under ROC Curve. Due to RAM limitations however, we instead had to validate on subset of our training dataset instead. This is because the training dataset has both the features and target data. The test.csv provided by Microsoft does not have the target column. If we wanted to test our model performance against the competition test data, we would have to make over 7 million prediction then upload the predictions file to Kaggle to be scored. Due to RAM limitations we were unable to make all the required predictions and thus had to measure our final model performance with a 100k rows from our training data that were not used in training the mdel. Overall, our model is robust and accurately predicts malware attacks at a performance level that is on par or above other top models entered into the competition."
      ],
      "metadata": {
        "id": "3h4WFYkim29u"
      }
    }
  ],
  "metadata": {
    "colab": {
      "machine_shape": "hm",
      "provenance": [],
      "gpuType": "T4",
      "toc_visible": true
    },
    "kernelspec": {
      "display_name": "Python 3",
      "name": "python3"
    },
    "language_info": {
      "name": "python"
    }
  },
  "nbformat": 4,
  "nbformat_minor": 0
}